{
 "cells": [
  {
   "cell_type": "markdown",
   "metadata": {},
   "source": [
    "Before you turn this problem in, make sure everything runs as expected. First, **restart the kernel** (in the menubar, select Kernel$\\rightarrow$Restart) and then **run all cells** (in the menubar, select Cell$\\rightarrow$Run All).\n",
    "\n",
    "Make sure you fill in any place that says `YOUR CODE HERE` or \"YOUR ANSWER HERE\" and remove every line containing the expression: \"raise ...\" (if you leave such a line your code will not run).\n",
    "\n",
    "Do not remove any cell from the notebook you downloaded. You can add any number of cells (and remove them if not more necessary). \n",
    "\n",
    "## IMPORTANT: make sure to rerun all the code from the beginning to obtain the results for the final version of your notebook, since this is the way we will do it before evaluating your notebook!!!\n",
    "\n",
    "Fill in your name and id number (numero matricola) below:"
   ]
  },
  {
   "cell_type": "code",
   "execution_count": 1,
   "metadata": {},
   "outputs": [],
   "source": [
    "NAME = \"Marco Mustacchi\"\n",
    "ID_number = int(\"2054137\")\n",
    "\n",
    "import IPython\n",
    "assert IPython.version_info[0] >= 3, \"Your version of IPython is too old, please update it.\""
   ]
  },
  {
   "cell_type": "markdown",
   "metadata": {},
   "source": [
    "---"
   ]
  },
  {
   "cell_type": "markdown",
   "metadata": {
    "deletable": false,
    "editable": false,
    "nbgrader": {
     "cell_type": "markdown",
     "checksum": "3ff9eaae2f9b2bbc8db537ec711deafa",
     "grade": false,
     "grade_id": "cell-076a38b69f1df826",
     "locked": true,
     "schema_version": 3,
     "solution": false,
     "task": false
    }
   },
   "source": [
    "## HOMEWORK #3\n",
    "\n",
    "### Non linear models for classification \n",
    "\n",
    "In this notebook we are going to explore the use of SVM and Neural Networks for image classification. We are going to use the famous MNIST dataset, that is a dataset of handwritten digits. We get the data from mldata.org, that is a public repository for machine learning data."
   ]
  },
  {
   "cell_type": "code",
   "execution_count": 2,
   "metadata": {
    "deletable": false,
    "editable": false,
    "nbgrader": {
     "cell_type": "code",
     "checksum": "a952a4c5a4e854bba886c6ef063bf2d7",
     "grade": false,
     "grade_id": "cell-4ba73b30a541fdaa",
     "locked": true,
     "schema_version": 3,
     "solution": false,
     "task": false
    }
   },
   "outputs": [],
   "source": [
    "# Load the required packages\n",
    "import numpy as np\n",
    "import scipy as sp\n",
    "import matplotlib.pyplot as plt\n",
    "import pandas as pd\n",
    "import seaborn as sn\n",
    "\n",
    "import sklearn\n",
    "from sklearn.datasets import fetch_openml\n",
    "from sklearn.neural_network import MLPClassifier"
   ]
  },
  {
   "cell_type": "markdown",
   "metadata": {
    "deletable": false,
    "editable": false,
    "nbgrader": {
     "cell_type": "markdown",
     "checksum": "62f2d6cd922f55c75f8fb1fa852035e1",
     "grade": false,
     "grade_id": "cell-a9408bdac2c3797b",
     "locked": true,
     "schema_version": 3,
     "solution": false,
     "task": false
    }
   },
   "source": [
    "In the following cell we will import the MNIST dataset. The `fetch_openml` function works differently depending on your version of scikit-learn. In particular, if you have the version $0.24$ or higher, you need to add the argument `as_frame` and set it to `False`. Choose the correct line below (you can also try both of them: the wrong one will generate an error)."
   ]
  },
  {
   "cell_type": "code",
   "execution_count": 3,
   "metadata": {
    "deletable": false,
    "nbgrader": {
     "cell_type": "code",
     "checksum": "57326e3ce56e3ba31f659d3a99e742ad",
     "grade": false,
     "grade_id": "cell-87d195f3039741b3",
     "locked": false,
     "schema_version": 3,
     "solution": true,
     "task": false
    }
   },
   "outputs": [
    {
     "name": "stdout",
     "output_type": "stream",
     "text": [
      "Each image is represented as vector of shape (784,)\n",
      "The image is represented in gray scale levels [  0.   0.   0.   0.   0.   0.   0.   0.   0.   0.   0.   0.   0.   0.\n",
      "   0.   0.   0.   0.   0.   0.   0.   0.   0.   0.   0.   0.   0.   0.\n",
      "   0.   0.   0.   0.   0.   0.   0.   0.   0.   0.   0.   0.   0.   0.\n",
      "   0.   0.   0.   0.   0.   0.   0.   0.   0.   0.   0.   0.   0.   0.\n",
      "   0.   0.   0.   0.   0.   0.   0.   0.   0.   0.   0.   0.   0.   0.\n",
      "   0.   0.   0.   0.   0.   0.   0.   0.   0.   0.   0.   0.   0.   0.\n",
      "   0.   0.   0.   0.   0.   0.   0.   0.   0.   0.   0.   0.   0.   0.\n",
      "   0.   0.   0.   0.   0.   0.   0.   0.   0.   0.   0.   0.   0.   0.\n",
      "   0.   0.   0.   0.   0.   0.   0.   0.   0.   0.   0.   0.   0.   0.\n",
      "   0.   0.   0.   0.   0.   0.   0.   0.   0.   0.   0.   0.   0.   0.\n",
      "   0.   0.   0.   0.   0.   0.   0.   0.   0.   0.   0.   0.   3.  18.\n",
      "  18.  18. 126. 136. 175.  26. 166. 255. 247. 127.   0.   0.   0.   0.\n",
      "   0.   0.   0.   0.   0.   0.   0.   0.  30.  36.  94. 154. 170. 253.\n",
      " 253. 253. 253. 253. 225. 172. 253. 242. 195.  64.   0.   0.   0.   0.\n",
      "   0.   0.   0.   0.   0.   0.   0.  49. 238. 253. 253. 253. 253. 253.\n",
      " 253. 253. 253. 251.  93.  82.  82.  56.  39.   0.   0.   0.   0.   0.\n",
      "   0.   0.   0.   0.   0.   0.   0.  18. 219. 253. 253. 253. 253. 253.\n",
      " 198. 182. 247. 241.   0.   0.   0.   0.   0.   0.   0.   0.   0.   0.\n",
      "   0.   0.   0.   0.   0.   0.   0.   0.  80. 156. 107. 253. 253. 205.\n",
      "  11.   0.  43. 154.   0.   0.   0.   0.   0.   0.   0.   0.   0.   0.\n",
      "   0.   0.   0.   0.   0.   0.   0.   0.   0.  14.   1. 154. 253.  90.\n",
      "   0.   0.   0.   0.   0.   0.   0.   0.   0.   0.   0.   0.   0.   0.\n",
      "   0.   0.   0.   0.   0.   0.   0.   0.   0.   0.   0. 139. 253. 190.\n",
      "   2.   0.   0.   0.   0.   0.   0.   0.   0.   0.   0.   0.   0.   0.\n",
      "   0.   0.   0.   0.   0.   0.   0.   0.   0.   0.   0.  11. 190. 253.\n",
      "  70.   0.   0.   0.   0.   0.   0.   0.   0.   0.   0.   0.   0.   0.\n",
      "   0.   0.   0.   0.   0.   0.   0.   0.   0.   0.   0.   0.  35. 241.\n",
      " 225. 160. 108.   1.   0.   0.   0.   0.   0.   0.   0.   0.   0.   0.\n",
      "   0.   0.   0.   0.   0.   0.   0.   0.   0.   0.   0.   0.   0.  81.\n",
      " 240. 253. 253. 119.  25.   0.   0.   0.   0.   0.   0.   0.   0.   0.\n",
      "   0.   0.   0.   0.   0.   0.   0.   0.   0.   0.   0.   0.   0.   0.\n",
      "  45. 186. 253. 253. 150.  27.   0.   0.   0.   0.   0.   0.   0.   0.\n",
      "   0.   0.   0.   0.   0.   0.   0.   0.   0.   0.   0.   0.   0.   0.\n",
      "   0.  16.  93. 252. 253. 187.   0.   0.   0.   0.   0.   0.   0.   0.\n",
      "   0.   0.   0.   0.   0.   0.   0.   0.   0.   0.   0.   0.   0.   0.\n",
      "   0.   0.   0. 249. 253. 249.  64.   0.   0.   0.   0.   0.   0.   0.\n",
      "   0.   0.   0.   0.   0.   0.   0.   0.   0.   0.   0.   0.   0.   0.\n",
      "  46. 130. 183. 253. 253. 207.   2.   0.   0.   0.   0.   0.   0.   0.\n",
      "   0.   0.   0.   0.   0.   0.   0.   0.   0.   0.   0.   0.  39. 148.\n",
      " 229. 253. 253. 253. 250. 182.   0.   0.   0.   0.   0.   0.   0.   0.\n",
      "   0.   0.   0.   0.   0.   0.   0.   0.   0.   0.  24. 114. 221. 253.\n",
      " 253. 253. 253. 201.  78.   0.   0.   0.   0.   0.   0.   0.   0.   0.\n",
      "   0.   0.   0.   0.   0.   0.   0.   0.  23.  66. 213. 253. 253. 253.\n",
      " 253. 198.  81.   2.   0.   0.   0.   0.   0.   0.   0.   0.   0.   0.\n",
      "   0.   0.   0.   0.   0.   0.  18. 171. 219. 253. 253. 253. 253. 195.\n",
      "  80.   9.   0.   0.   0.   0.   0.   0.   0.   0.   0.   0.   0.   0.\n",
      "   0.   0.   0.   0.  55. 172. 226. 253. 253. 253. 253. 244. 133.  11.\n",
      "   0.   0.   0.   0.   0.   0.   0.   0.   0.   0.   0.   0.   0.   0.\n",
      "   0.   0.   0.   0. 136. 253. 253. 253. 212. 135. 132.  16.   0.   0.\n",
      "   0.   0.   0.   0.   0.   0.   0.   0.   0.   0.   0.   0.   0.   0.\n",
      "   0.   0.   0.   0.   0.   0.   0.   0.   0.   0.   0.   0.   0.   0.\n",
      "   0.   0.   0.   0.   0.   0.   0.   0.   0.   0.   0.   0.   0.   0.\n",
      "   0.   0.   0.   0.   0.   0.   0.   0.   0.   0.   0.   0.   0.   0.\n",
      "   0.   0.   0.   0.   0.   0.   0.   0.   0.   0.   0.   0.   0.   0.\n",
      "   0.   0.   0.   0.   0.   0.   0.   0.   0.   0.   0.   0.   0.   0.\n",
      "   0.   0.   0.   0.   0.   0.   0.   0.   0.   0.   0.   0.   0.   0.]\n",
      "Here it is a label: 5\n"
     ]
    }
   ],
   "source": [
    "#load the MNIST dataset and let's normalize the features so that each value is in [0,1]\n",
    "## Load data from https://www.openml.org/d/554 - may take some time\n",
    "\n",
    "# YOUR CODE HERE\n",
    "# raise NotImplementedError() # Remove this line\n",
    "# CHOOSE BETWEEN:\n",
    "X, Y = fetch_openml('mnist_784', version=1, return_X_y=True, as_frame=False)\n",
    "# OR:\n",
    "# X, Y = fetch_openml('mnist_784', version=1, return_X_y=True)\n",
    "\n",
    "print(f'Each image is represented as vector of shape {X[0].shape}')\n",
    "print(f'The image is represented in gray scale levels {X[0]}')\n",
    "print(f'Here it is a label: {Y[0]}')\n",
    "\n",
    "# Rescale the data\n",
    "X = X / 255."
   ]
  },
  {
   "cell_type": "code",
   "execution_count": null,
   "metadata": {
    "deletable": false,
    "editable": false,
    "nbgrader": {
     "cell_type": "code",
     "checksum": "d75b06c077ddedc64530961f6383bbaf",
     "grade": true,
     "grade_id": "cell-41f1fb8094aef5d7",
     "locked": true,
     "points": 0,
     "schema_version": 3,
     "solution": false,
     "task": false
    }
   },
   "outputs": [],
   "source": []
  },
  {
   "cell_type": "markdown",
   "metadata": {
    "deletable": false,
    "editable": false,
    "nbgrader": {
     "cell_type": "markdown",
     "checksum": "394f7d8e99443df48f43cb4382d81b3d",
     "grade": false,
     "grade_id": "cell-81c18ee97323d3e5",
     "locked": true,
     "schema_version": 3,
     "solution": false,
     "task": false
    }
   },
   "source": [
    "In a classification problem it is desirable to split the dataset into train and test sets in a way that preserves the same proportions of examples in each class as observed in the original dataset, so that we work with _balanced_ datasets.\n",
    "We can achieve this by setting the “stratify” argument of the function \"train_test_split\" to the Y component of our dataset.\n",
    "\n",
    "We are going to use 500 samples in the train dataset, the remaining ones are used for testing."
   ]
  },
  {
   "cell_type": "code",
   "execution_count": 4,
   "metadata": {
    "deletable": false,
    "editable": false,
    "nbgrader": {
     "cell_type": "code",
     "checksum": "7c2343a80405bf126ca8caee4c8948ea",
     "grade": false,
     "grade_id": "cell-e27bcaacee1db729",
     "locked": true,
     "schema_version": 3,
     "solution": false,
     "task": false
    }
   },
   "outputs": [
    {
     "name": "stdout",
     "output_type": "stream",
     "text": [
      "Lenght train dataset: 500, Labels and frequencies: \n",
      " [('0', 49), ('1', 56), ('2', 50), ('3', 51), ('4', 49), ('5', 45), ('6', 49), ('7', 52), ('8', 49), ('9', 50)]\n",
      "Lenght test dataset: 69500, Labels and frequencies: \n",
      " [('0', 6854), ('1', 7821), ('2', 6940), ('3', 7090), ('4', 6775), ('5', 6268), ('6', 6827), ('7', 7241), ('8', 6776), ('9', 6908)]\n"
     ]
    }
   ],
   "source": [
    "from sklearn.model_selection import train_test_split\n",
    "\n",
    "m_t = 500\n",
    "x_train, x_test, y_train, y_test = train_test_split(X, Y, train_size=m_t/len(Y), random_state=ID_number, stratify=Y)\n",
    "\n",
    "print(f'Lenght train dataset: {len(y_train)}, Labels and frequencies: \\n {list(zip(*np.unique(y_train, return_counts=True)))}')\n",
    "print(f'Lenght test dataset: {len(y_test)}, Labels and frequencies: \\n {list(zip(*np.unique(y_test, return_counts=True)))}')"
   ]
  },
  {
   "cell_type": "code",
   "execution_count": 5,
   "metadata": {
    "deletable": false,
    "editable": false,
    "nbgrader": {
     "cell_type": "code",
     "checksum": "43de9c7aa4a5c89c64f8329c785e1e25",
     "grade": false,
     "grade_id": "cell-c3f9a9f2f617be66",
     "locked": true,
     "schema_version": 3,
     "solution": false,
     "task": false
    }
   },
   "outputs": [],
   "source": [
    "# Function to plot a digit and print the corresponding label\n",
    "def plot_digit(X_matrix, labels, index):\n",
    "    print(\"INPUT:\")\n",
    "    plt.imshow(\n",
    "        X_matrix[index].reshape(28,28),\n",
    "        cmap          = plt.cm.gray_r,\n",
    "        interpolation = \"nearest\"\n",
    "    )\n",
    "    plt.show()\n",
    "    print(f\"LABEL: {labels[index]}\")\n",
    "    return"
   ]
  },
  {
   "cell_type": "code",
   "execution_count": 6,
   "metadata": {
    "deletable": false,
    "editable": false,
    "nbgrader": {
     "cell_type": "code",
     "checksum": "f931c5ab0576c91a41e6ab50bd31881d",
     "grade": false,
     "grade_id": "cell-b2638b70d6ee2365",
     "locked": true,
     "schema_version": 3,
     "solution": false,
     "task": false
    }
   },
   "outputs": [
    {
     "name": "stdout",
     "output_type": "stream",
     "text": [
      "INPUT:\n"
     ]
    },
    {
     "data": {
      "image/png": "[encoded data removed]",
      "text/plain": [
       "<Figure size 432x288 with 1 Axes>"
      ]
     },
     "metadata": {
      "needs_background": "light"
     },
     "output_type": "display_data"
    },
    {
     "name": "stdout",
     "output_type": "stream",
     "text": [
      "LABEL: 5\n",
      "INPUT:\n"
     ]
    },
    {
     "data": {
      "image/png": "[encoded data removed]",
      "text/plain": [
       "<Figure size 432x288 with 1 Axes>"
      ]
     },
     "metadata": {
      "needs_background": "light"
     },
     "output_type": "display_data"
    },
    {
     "name": "stdout",
     "output_type": "stream",
     "text": [
      "LABEL: 2\n"
     ]
    }
   ],
   "source": [
    "#let's try the plotting function\n",
    "plot_digit(x_train, y_train, 100)\n",
    "plot_digit(x_test, y_test, 40000)"
   ]
  },
  {
   "cell_type": "markdown",
   "metadata": {
    "deletable": false,
    "editable": false,
    "nbgrader": {
     "cell_type": "markdown",
     "checksum": "8d064a2ef59e85b7fe8e6e0c29a9323f",
     "grade": false,
     "grade_id": "cell-8173b3832936e560",
     "locked": true,
     "schema_version": 3,
     "solution": false,
     "task": false
    }
   },
   "source": [
    "## TO DO 1\n",
    "SVM with cross validation to pick the best model. Use SVC from sklearn.svm and GridSearchCV from sklearn.model_selection (5-fold cross-validation).\n",
    "\n",
    "Print the best parameters found as well as the best score obtained by the 'optimal' model.\n",
    "Choose the grid: depending on the kernel you are using different hyper-parameters are needed (C, gamma, ...). \n",
    "You do not need to use more than 5 values for each hyper-parameter (otherwise the cell could be very slow). "
   ]
  },
  {
   "cell_type": "code",
   "execution_count": 7,
   "metadata": {
    "deletable": false,
    "nbgrader": {
     "cell_type": "code",
     "checksum": "ceb75594dc13c0f7d19fdea2d17a2319",
     "grade": false,
     "grade_id": "cell-a5339e3c792f1d3e",
     "locked": false,
     "schema_version": 3,
     "solution": true,
     "task": false
    }
   },
   "outputs": [
    {
     "name": "stdout",
     "output_type": "stream",
     "text": [
      "#####################################\n",
      "RESULTS for linear KERNEL\n",
      "\n",
      "Best parameters set found:\n",
      "{'C': 0.1}\n",
      "\n",
      "Score with best parameters:\n",
      "0.842\n",
      "\n",
      "All scores on the grid:\n",
      "[0.842 0.838 0.838 0.838 0.838]\n",
      "#####################################\n",
      "RESULTS for rbf KERNEL\n",
      "\n",
      "Best parameters set found:\n",
      "{'C': 10, 'gamma': 0.01}\n",
      "\n",
      "Score with best parameters:\n",
      "0.876\n",
      "\n",
      "All scores on the grid:\n",
      "[0.112 0.112 0.466 0.112 0.112 0.724 0.86  0.608 0.74  0.864 0.876 0.648\n",
      " 0.864 0.844 0.876 0.648]\n",
      "#####################################\n",
      "RESULTS for poly KERNEL\n",
      "\n",
      "Best parameters set found:\n",
      "{'C': 0.1, 'degree': 2, 'gamma': 0.1}\n",
      "\n",
      "Score with best parameters:\n",
      "0.8600000000000001\n",
      "\n",
      "All scores on the grid:\n",
      "[0.112 0.388 0.86  0.852 0.112 0.28  0.81  0.81  0.112 0.224 0.758 0.758\n",
      " 0.112 0.194 0.676 0.676 0.112 0.814 0.852 0.852 0.112 0.71  0.81  0.81\n",
      " 0.112 0.57  0.758 0.758 0.112 0.462 0.676 0.676 0.388 0.86  0.852 0.852\n",
      " 0.112 0.804 0.81  0.81  0.112 0.728 0.758 0.758 0.112 0.636 0.676 0.676\n",
      " 0.814 0.852 0.852 0.852 0.28  0.81  0.81  0.81  0.112 0.76  0.758 0.758\n",
      " 0.112 0.67  0.676 0.676]\n"
     ]
    }
   ],
   "source": [
    "#import SVC\n",
    "from sklearn.svm import SVC\n",
    "#import for Cross-Validation\n",
    "from sklearn.model_selection import GridSearchCV\n",
    "\n",
    "\n",
    "def compute_best_SVM_with_CV(kernel_type : str, parameters : dict, x_train : np.ndarray, y_train : np.ndarray) -> tuple:\n",
    "    '''\n",
    "    Use Cross validation to find the best SVM on the given parameters. Return the best parameters set together with \n",
    "    the corresponding score. Return also the scores for all the other parameters given as input.\n",
    "    :param kernel_type: Type of kernel (i.e. linear, rbf, poly)\n",
    "    :param parameters: Dict containing kernel parameters (e.g. {'C': [1, 10, 100, 1000], 'gamma': [0.01, 0.001], ...})\n",
    "    :param x_train: Train dataset\n",
    "    :param y_train: Train labels\n",
    "    \n",
    "    :returns: (best_param, best_score, all_scores)\n",
    "        WHERE:\n",
    "        best_param: best parameter set (this is a dictionary)\n",
    "        best_score: best score obtained for the given parameters (float)\n",
    "        all_scores: all scores computed for each parameter (np.ndarray)\n",
    "    '''\n",
    "    SVM_model = SVC(kernel=kernel_type)\n",
    "    # Use GridSearchCV to find the best parameter set.\n",
    "    # YOUR CODE HERE\n",
    "    # raise NotImplementedError() # Remove this line\n",
    "    SVM_CV = GridSearchCV(estimator =  SVM_model, cv = 5, param_grid= parameters)\n",
    "    SVM_CV.fit(x_train, y_train)\n",
    "    \n",
    "    print('#####################################')\n",
    "    print(f'RESULTS for {kernel_type} KERNEL\\n')\n",
    "    # Store the best parameters set and print them\n",
    "    print(\"Best parameters set found:\")\n",
    "    best_param = SVM_CV.best_params_\n",
    "    # YOUR CODE HERE\n",
    "    # raise NotImplementedError() # Remove this line\n",
    "    print(best_param)\n",
    "    \n",
    "    # Store and print the score of the best parameters set\n",
    "    print(\"\\nScore with best parameters:\")\n",
    "    best_score = SVM_CV.best_score_\n",
    "    # YOUR CODE HERE\n",
    "    # raise NotImplementedError() # Remove this line\n",
    "    print(best_score)\n",
    "    \n",
    "    # Store and print all the scores for the given parameters (average of the validation scores)\n",
    "    print(\"\\nAll scores on the grid:\")\n",
    "    all_scores = (SVM_CV.cv_results_)['mean_test_score']\n",
    "    # YOUR CODE HERE\n",
    "    # raise NotImplementedError() # Remove this line\n",
    "    print(all_scores)\n",
    "    \n",
    "    return best_param, best_score, all_scores\n",
    "\n",
    "# Choose the grid for parameters of the linear SVM kernel\n",
    "linear_parameters = {'C': [0.1, 1, 10, 100, 1000]}\n",
    "# YOUR CODE HERE\n",
    "# raise NotImplementedError() # Remove this line\n",
    "best_param_lin, best_score_lin, all_scores_lin = compute_best_SVM_with_CV('linear', linear_parameters, x_train, y_train)\n",
    "# Choose the grid for parameters of the rbf SVM kernel\n",
    "rbf_parameters = {'C': [0.1, 1, 10, 100], 'gamma': [0.0001, 0.001, 0.01, 0.1]}\n",
    "# YOUR CODE HERE\n",
    "# raise NotImplementedError() # Remove this line\n",
    "best_param_rbf, best_score_rbf, all_scores_rbf = compute_best_SVM_with_CV('rbf', rbf_parameters, x_train, y_train)\n",
    "# Choose the grid for parameters of the poly SVM kernel (do not forget to choose the degree)\n",
    "poly_parameters = {'C': [0.1, 1, 10, 100], 'gamma': [0.001, 0.01, 0.1, 1], 'degree': [2,3,4,5]}\n",
    "# YOUR CODE HERE\n",
    "# raise NotImplementedError() # Remove this line\n",
    "best_param_poly, best_score_poly, all_scores_poly = compute_best_SVM_with_CV('poly', poly_parameters, x_train, y_train)"
   ]
  },
  {
   "cell_type": "code",
   "execution_count": 8,
   "metadata": {
    "deletable": false,
    "editable": false,
    "nbgrader": {
     "cell_type": "code",
     "checksum": "207aeacb91c04b8b825a669594ddae01",
     "grade": true,
     "grade_id": "cell-ebaae7b6afc0d0cf",
     "locked": true,
     "points": 5,
     "schema_version": 3,
     "solution": false,
     "task": false
    }
   },
   "outputs": [],
   "source": [
    "assert type(best_param_rbf) == dict\n",
    "assert type(best_score_rbf) == np.float64\n",
    "assert np.prod(np.array([len(params) for params in rbf_parameters.values()])) == len(all_scores_rbf)\n"
   ]
  },
  {
   "cell_type": "code",
   "execution_count": 9,
   "metadata": {
    "deletable": false,
    "nbgrader": {
     "cell_type": "code",
     "checksum": "e498b28e5b17f3a3d70982a9b5884828",
     "grade": false,
     "grade_id": "cell-afe8e1dfdc2607ec",
     "locked": false,
     "schema_version": 3,
     "solution": true,
     "task": false
    }
   },
   "outputs": [
    {
     "name": "stdout",
     "output_type": "stream",
     "text": [
      "Best SVM training error: 0.0\n",
      "Best SVM test error: 0.1090791366906475\n"
     ]
    }
   ],
   "source": [
    "# TODO 2: \n",
    "# Get training and test error for the best SVM model obtained from CV (you need to choose across different kernels \n",
    "# too). You just need to look at the best model for each kernel and choose the best one (you can do this by hand).\n",
    "\n",
    "best_kernel_type, best_parameters = 'rbf', best_param_rbf\n",
    "# YOUR CODE HERE\n",
    "# raise NotImplementedError() # Remove this line\n",
    "best_SVM = SVC(kernel=best_kernel_type, **best_parameters)\n",
    "best_SVM.fit(x_train, y_train)\n",
    "\n",
    "# Compute training and test error for this model (use the usual sklearn built-in functions seen in previous homeworks)\n",
    "training_error, test_error = 1. - best_SVM.score(x_train,y_train), 1. - best_SVM.score(x_test,y_test)\n",
    "# YOUR CODE HERE\n",
    "# raise NotImplementedError() # Remove this line\n",
    "\n",
    "print (f\"Best SVM training error: {training_error}\")\n",
    "print (f\"Best SVM test error: {test_error}\")"
   ]
  },
  {
   "cell_type": "code",
   "execution_count": 10,
   "metadata": {
    "deletable": false,
    "editable": false,
    "nbgrader": {
     "cell_type": "code",
     "checksum": "57d9c76ee5722becfaa9cf0bbc261d16",
     "grade": true,
     "grade_id": "cell-4053a73d188e1e77",
     "locked": true,
     "points": 3,
     "schema_version": 3,
     "solution": false,
     "task": false
    }
   },
   "outputs": [],
   "source": [
    "assert type(training_error) == np.float64\n",
    "assert type(test_error) == np.float64\n"
   ]
  },
  {
   "cell_type": "markdown",
   "metadata": {
    "deletable": false,
    "editable": false,
    "nbgrader": {
     "cell_type": "markdown",
     "checksum": "cbd895081443eb0dc1185dafe871580d",
     "grade": false,
     "grade_id": "cell-725922e6187a3cca",
     "locked": true,
     "schema_version": 3,
     "solution": false,
     "task": false
    }
   },
   "source": [
    "### TO DO 3\n",
    "Now we use feed-forward neural networks for classification. You can use the Multi-Layer-Perceptron (the multi-layer structure we have seen in class, see http://scikit-learn.org/stable/modules/neural_networks_supervised.html).\n",
    "\n",
    "Note that we fix the starting random state so to make the runs reproducible. Use max_iter=1000, alpha=1e-4, solver='sgd', tol=1e-4, learning_rate_init=.1. Pick few architectures and use the default activation function (ReLU)."
   ]
  },
  {
   "cell_type": "code",
   "execution_count": 11,
   "metadata": {
    "deletable": false,
    "nbgrader": {
     "cell_type": "code",
     "checksum": "34e9bba334f0dfc5d0284827b6f4bc1d",
     "grade": false,
     "grade_id": "cell-5a1b0b4bf3034190",
     "locked": false,
     "schema_version": 3,
     "solution": true,
     "task": false
    }
   },
   "outputs": [
    {
     "name": "stdout",
     "output_type": "stream",
     "text": [
      "#####################################\n",
      "RESULTS FOR NN\n",
      "\n",
      "Best parameters set found:\n",
      "{'hidden_layer_sizes': (50, 50)}\n",
      "\n",
      "Score with best parameters:\n",
      "0.8540000000000001\n",
      "\n",
      "All scores on the grid:\n",
      "[0.82  0.852 0.782 0.854]\n"
     ]
    }
   ],
   "source": [
    "# test different architectures: \n",
    "# - 1 hidden layer with 10 nodes, \n",
    "# - 1 hidden layer with 50 nodes, \n",
    "# - 2 hidden layer with 10 nodes each, \n",
    "# - 2 hidden layer with 50 nodes each\n",
    "# feel free to change this and test more/different structures\n",
    "\n",
    "parameters = {'hidden_layer_sizes': [(10,), (50,), (10,10,), (50,50,)]}\n",
    "\n",
    "mlp = MLPClassifier(max_iter=1000, alpha=1e-4, solver='sgd', tol=1e-4, random_state=ID_number, learning_rate_init=.1)\n",
    "\n",
    "# Use GridSearchCV to find the best mlp using 5 fold CV.\n",
    "mlp_CV = GridSearchCV(estimator=mlp, cv=5, param_grid=parameters).fit(x_train, y_train)\n",
    "# YOUR CODE HERE\n",
    "# raise NotImplementedError() # Remove this line\n",
    "\n",
    "print('#####################################')\n",
    "print ('RESULTS FOR NN\\n')\n",
    "# Store the best parameters set and print them\n",
    "print(\"Best parameters set found:\")\n",
    "mlp_best_param = mlp_CV.best_params_\n",
    "# YOUR CODE HERE\n",
    "# raise NotImplementedError() # Remove this line\n",
    "print(mlp_best_param)\n",
    "\n",
    "# Store and print the score of the best parameters set\n",
    "print(\"\\nScore with best parameters:\")\n",
    "mlp_best_score = mlp_CV.best_score_\n",
    "# YOUR CODE HERE\n",
    "# raise NotImplementedError() # Remove this line\n",
    "print(mlp_best_score)\n",
    "\n",
    "# Store and print all the scores for the given parameters (average of the validation scores)\n",
    "print(\"\\nAll scores on the grid:\")\n",
    "mlp_all_scores = (mlp_CV.cv_results_)['mean_test_score']\n",
    "# YOUR CODE HERE\n",
    "# raise NotImplementedError() # Remove this line\n",
    "print(mlp_all_scores)"
   ]
  },
  {
   "cell_type": "code",
   "execution_count": 12,
   "metadata": {
    "deletable": false,
    "editable": false,
    "nbgrader": {
     "cell_type": "code",
     "checksum": "a90be1e3a1de39f8aa1e99997dbd3190",
     "grade": true,
     "grade_id": "cell-8a5ceaf16e49c200",
     "locked": true,
     "points": 2,
     "schema_version": 3,
     "solution": false,
     "task": false
    }
   },
   "outputs": [],
   "source": [
    "assert type(mlp_best_param) == dict\n",
    "assert type(mlp_best_score) == np.float64"
   ]
  },
  {
   "cell_type": "markdown",
   "metadata": {
    "deletable": false,
    "editable": false,
    "nbgrader": {
     "cell_type": "markdown",
     "checksum": "d93e8a9c86d1954bbaa23e5192054e98",
     "grade": false,
     "grade_id": "cell-3b3105ef206a32a7",
     "locked": true,
     "schema_version": 3,
     "solution": false,
     "task": false
    }
   },
   "source": [
    "## TO DO 4\n",
    "\n",
    "\n",
    "Now get training and test error for a NN with best parameters from above. We use verbose=True\n",
    "in input so to see how loss changes in iterations (see how this changes if the number of iterations is changed)"
   ]
  },
  {
   "cell_type": "code",
   "execution_count": 13,
   "metadata": {
    "deletable": false,
    "nbgrader": {
     "cell_type": "code",
     "checksum": "0810df2d5d1cee7df64e2a4916dcab73",
     "grade": false,
     "grade_id": "cell-1bac118c0979b347",
     "locked": false,
     "schema_version": 3,
     "solution": true,
     "task": false
    }
   },
   "outputs": [
    {
     "name": "stdout",
     "output_type": "stream",
     "text": [
      "Iteration 1, loss = 2.21138342\n",
      "Iteration 2, loss = 1.74183924\n",
      "Iteration 3, loss = 1.16890322\n",
      "Iteration 4, loss = 0.77956914\n",
      "Iteration 5, loss = 0.82939500\n",
      "Iteration 6, loss = 0.49008730\n",
      "Iteration 7, loss = 0.31831594\n",
      "Iteration 8, loss = 0.26749616\n",
      "Iteration 9, loss = 0.18659882\n",
      "Iteration 10, loss = 0.15766800\n",
      "Iteration 11, loss = 0.09770252\n",
      "Iteration 12, loss = 0.06659643\n",
      "Iteration 13, loss = 0.04749888\n",
      "Iteration 14, loss = 0.03299832\n",
      "Iteration 15, loss = 0.02538483\n",
      "Iteration 16, loss = 0.01950856\n",
      "Iteration 17, loss = 0.01505886\n",
      "Iteration 18, loss = 0.01214709\n",
      "Iteration 19, loss = 0.01017997\n",
      "Iteration 20, loss = 0.00866838\n",
      "Iteration 21, loss = 0.00748687\n",
      "Iteration 22, loss = 0.00662992\n",
      "Iteration 23, loss = 0.00597658\n",
      "Iteration 24, loss = 0.00549609\n",
      "Iteration 25, loss = 0.00504525\n",
      "Iteration 26, loss = 0.00465613\n",
      "Iteration 27, loss = 0.00439474\n",
      "Iteration 28, loss = 0.00410649\n",
      "Iteration 29, loss = 0.00388440\n",
      "Iteration 30, loss = 0.00366762\n",
      "Iteration 31, loss = 0.00354249\n",
      "Iteration 32, loss = 0.00337586\n",
      "Iteration 33, loss = 0.00319959\n",
      "Iteration 34, loss = 0.00307563\n",
      "Iteration 35, loss = 0.00295784\n",
      "Iteration 36, loss = 0.00287363\n",
      "Iteration 37, loss = 0.00274372\n",
      "Iteration 38, loss = 0.00265395\n",
      "Iteration 39, loss = 0.00258336\n",
      "Iteration 40, loss = 0.00248080\n",
      "Iteration 41, loss = 0.00241240\n",
      "Iteration 42, loss = 0.00234227\n",
      "Iteration 43, loss = 0.00226586\n",
      "Iteration 44, loss = 0.00221554\n",
      "Iteration 45, loss = 0.00215451\n",
      "Iteration 46, loss = 0.00209553\n",
      "Iteration 47, loss = 0.00203861\n",
      "Iteration 48, loss = 0.00199403\n",
      "Iteration 49, loss = 0.00194665\n",
      "Iteration 50, loss = 0.00190063\n",
      "Iteration 51, loss = 0.00186123\n",
      "Training loss did not improve more than tol=0.000100 for 10 consecutive epochs. Stopping.\n",
      "\n",
      "RESULTS FOR BEST NN\n",
      "\n",
      "Best NN training error: 0.000000\n",
      "Best NN test error: 0.143137\n"
     ]
    },
    {
     "data": {
      "text/plain": [
       "(Text(0.5, 0, 'Iter'), Text(0, 0.5, 'Loss'))"
      ]
     },
     "execution_count": 13,
     "metadata": {},
     "output_type": "execute_result"
    },
    {
     "data": {
      "image/png": "[encoded data removed]",
      "text/plain": [
       "<Figure size 432x288 with 1 Axes>"
      ]
     },
     "metadata": {
      "needs_background": "light"
     },
     "output_type": "display_data"
    }
   ],
   "source": [
    "# Get training and test error for the best NN model found using CV\n",
    "max_iter = 1000\n",
    "mlp = MLPClassifier(**mlp_best_param, max_iter=max_iter, alpha=1e-4, solver='sgd', tol=1e-4, random_state=ID_number,\n",
    "                    learning_rate_init=.1, verbose=True)\n",
    "\n",
    "# ADD CODE: FIT MODEL & COMPUTE TRAINING AND TEST ERRORS\n",
    "mlp.fit(x_train, y_train)\n",
    "training_error, test_error = 1. - mlp.score(x_train,y_train), 1. - mlp.score(x_test,y_test)\n",
    "# YOUR CODE HERE\n",
    "# raise NotImplementedError() # Remove this line\n",
    "\n",
    "print ('\\nRESULTS FOR BEST NN\\n')\n",
    "\n",
    "print (\"Best NN training error: %f\" % training_error)\n",
    "print (\"Best NN test error: %f\" % test_error)\n",
    "\n",
    "plt.plot(mlp.loss_curve_, label='Training Loss')\n",
    "plt.title('Training loss MLP')\n",
    "plt.xlabel('Iter'), plt.ylabel('Loss')"
   ]
  },
  {
   "cell_type": "code",
   "execution_count": 14,
   "metadata": {
    "deletable": false,
    "editable": false,
    "nbgrader": {
     "cell_type": "code",
     "checksum": "dd264ef221a9a75f3e41dfb40deff87c",
     "grade": true,
     "grade_id": "cell-b01aa80f3128b91d",
     "locked": true,
     "points": 2,
     "schema_version": 3,
     "solution": false,
     "task": false
    }
   },
   "outputs": [],
   "source": [
    "assert type(training_error) == np.float64\n",
    "assert type(test_error) == np.float64\n"
   ]
  },
  {
   "cell_type": "markdown",
   "metadata": {
    "deletable": false,
    "editable": false,
    "nbgrader": {
     "cell_type": "markdown",
     "checksum": "e8c8979eadb59da78e051f520daab77a",
     "grade": false,
     "grade_id": "cell-53fd0895cc28155b",
     "locked": true,
     "schema_version": 3,
     "solution": false,
     "task": false
    }
   },
   "source": [
    "## TO DO  5\n",
    "Write a function to find and plot the first digit (in x_test) that is missclassified by NN and correctly classified by SVM.\n",
    "\n",
    "Write a function to compute the confusion matrix for the predictions of a model (on testset). If you are not familiar with what a confusion matrix is, have a look at this link: https://scikit-learn.org/stable/modules/generated/sklearn.metrics.confusion_matrix.html . You are not allowed to use sklearn to create the confusion matrix BUT you can compare your solution with the sklearn implementation to check you wrote it right (see assert checks). "
   ]
  },
  {
   "cell_type": "code",
   "execution_count": 15,
   "metadata": {
    "deletable": false,
    "nbgrader": {
     "cell_type": "code",
     "checksum": "4346bc8aae74bb100f21b7cfea2cf027",
     "grade": false,
     "grade_id": "cell-6abbf994e14cb54d",
     "locked": false,
     "schema_version": 3,
     "solution": true,
     "task": false
    }
   },
   "outputs": [
    {
     "name": "stdout",
     "output_type": "stream",
     "text": [
      "INPUT:\n"
     ]
    },
    {
     "data": {
      "image/png": "[encoded data removed]",
      "text/plain": [
       "<Figure size 432x288 with 1 Axes>"
      ]
     },
     "metadata": {
      "needs_background": "light"
     },
     "output_type": "display_data"
    },
    {
     "name": "stdout",
     "output_type": "stream",
     "text": [
      "LABEL: 5\n",
      "SVM confusion matrix:\n",
      "[[6573    2   69   26   16   59   65   15   25    4]\n",
      " [   2 7648   31   32    2   32    8   11   36   19]\n",
      " [  89  178 5930  178  132   32  167  103  123    8]\n",
      " [  58   67  206 5991   10  451   13   49  172   73]\n",
      " [   5   69   42    7 6160   13   75   20   16  368]\n",
      " [  72  127   27  292   77 5334  104   27  165   43]\n",
      " [ 134   46  163   11   74  101 6261    3   33    1]\n",
      " [  35  144  110   27  176   29    1 6425   17  277]\n",
      " [  39  193  116  176   68  270   81   46 5647  140]\n",
      " [  52   63  101  107  360   47    6  174   48 5950]]\n",
      "MLP confusion matrix:\n",
      "[[6451    1   99   25   17  158   43   22   27   11]\n",
      " [   2 7566   59   37    4   40   12   13   77   11]\n",
      " [  90  162 5726  206  139   19  189  121  279    9]\n",
      " [  96   28  305 5707    8  553   22   41  209  121]\n",
      " [  12   74   67   34 5949   20  157   42   69  351]\n",
      " [ 165  115   77  422  135 4620  125   51  434  124]\n",
      " [  95   39  256    8   88  105 6125    0  111    0]\n",
      " [  42  150  173   72  186   20    2 6263   30  303]\n",
      " [  77  180  143  145   23  369  117   94 5509  119]\n",
      " [  59   63  166  156  374   74   15  252  113 5636]]\n"
     ]
    },
    {
     "data": {
      "text/plain": [
       "(Text(0.5, 1.0, 'SVM'), Text(0.5, 1.0, 'MLP'))"
      ]
     },
     "execution_count": 15,
     "metadata": {},
     "output_type": "execute_result"
    },
    {
     "data": {
      "image/png": "[encoded data removed]",
      "text/plain": [
       "<Figure size 1440x360 with 4 Axes>"
      ]
     },
     "metadata": {
      "needs_background": "light"
     },
     "output_type": "display_data"
    }
   ],
   "source": [
    "def find_and_print_first_mismatched_prediction(SVM_prediction : np.ndarray, NN_prediction : np.ndarray,\n",
    "                                               x_test : np.ndarray, y_test : np.ndarray) -> int:\n",
    "    '''\n",
    "    Function to find and print the first digit that is missclassified by NN and correctly classified by SVM.\n",
    "    :param SVM_prediction: SVM predicitons.\n",
    "    :param NN_prediction: MLP predicitons.\n",
    "    :param x_test: Test set inputs.\n",
    "    :param y_test: Test set labels.\n",
    "    \n",
    "    :returns:\n",
    "        i: returns the first index in which there is a mismatch between NN_prediction and true labels but no mismatch \n",
    "           between SVM_prediction and true labels. \n",
    "    '''\n",
    "    i = 0\n",
    "    found = False\n",
    "    while ((not found) and (i<len(y_test))):\n",
    "        # YOUR CODE HERE\n",
    "        # raise NotImplementedError() # Remove this line\n",
    "        if ((NN_prediction[i] != y_test[i]) and (SVM_prediction[i] == y_test[i])):\n",
    "            found = True\n",
    "            plot_digit(x_test, y_test, i)\n",
    "            break\n",
    "        i = i+1\n",
    "    return i\n",
    "    \n",
    "    \n",
    "def confusion_matrix_by_hand(true_labels : np.ndarray, predicted_labels : np.ndarray) -> np.ndarray:\n",
    "    '''\n",
    "    Function used to compute the confusion matrix given true and predicted labels. \n",
    "    :param true_labels: True labels.\n",
    "    :param predicted_labels: Predicted labels (note this function does not require to know which model generated \n",
    "                             the predictions).\n",
    "    \n",
    "    :returns:\n",
    "        confusion_matrix: Confusion matrix for the given true and predicted labels.\n",
    "    '''\n",
    "    labels = np.unique(true_labels) # Number of classes\n",
    "    map_labels_to_index = {label:i for i, label in enumerate(labels)}\n",
    "    confusion_matrix = np.zeros((len(labels), len(labels)))\n",
    "    \n",
    "    expected = true_labels.astype(int)\n",
    "    predicted = predicted_labels.astype(int)\n",
    "    for exp,pred in zip(expected, predicted):\n",
    "        confusion_matrix[exp][pred] += 1\n",
    "    # YOUR CODE HERE\n",
    "    # raise NotImplementedError() # Remove this line\n",
    "    return confusion_matrix.astype(int)\n",
    "\n",
    "\n",
    "# Let's test our functions\n",
    "SVM_prediction = best_SVM.predict(x_test)\n",
    "NN_prediction = mlp.predict(x_test)\n",
    "\n",
    "first_index = find_and_print_first_mismatched_prediction(SVM_prediction, NN_prediction, x_test, y_test)\n",
    "\n",
    "SVM_CM = confusion_matrix_by_hand(y_test, SVM_prediction)\n",
    "MLP_CM = confusion_matrix_by_hand(y_test, NN_prediction)\n",
    "\n",
    "print(f'SVM confusion matrix:\\n{SVM_CM}')\n",
    "print(f'MLP confusion matrix:\\n{MLP_CM}')\n",
    "\n",
    "# Convert confusion matrices to pandas data frames\n",
    "labels = np.unique(y_test)\n",
    "SVM_CM_df = pd.DataFrame(SVM_CM, index = labels, columns = labels)\n",
    "MLP_CM_df = pd.DataFrame(MLP_CM, index = labels, columns = labels)\n",
    "\n",
    "# Plot confusion matrices\n",
    "def cap(df):\n",
    "    df_numpy = df.to_numpy(dtype=int, copy=True)\n",
    "    np.fill_diagonal(df_numpy, np.zeros(df_numpy.shape[0]))\n",
    "    return np.amax(df_numpy)\n",
    "fig, axes = plt.subplots(1,2, figsize=(20,5))\n",
    "sn.heatmap(SVM_CM_df, annot=True, ax=axes[0], cmap='rocket_r', vmax=cap(SVM_CM_df)*2, fmt='d')\n",
    "sn.heatmap(MLP_CM_df, annot=True, ax=axes[1], cmap='rocket_r', vmax=cap(MLP_CM_df)*2, fmt='d')\n",
    "axes[0].set_title('SVM'), axes[1].set_title('MLP')\n",
    "# Opional line to plot a better table if you see first and last row halved\n",
    "#[ax.set_yticks(list(range(len(labels)+1))) for ax in axes]"
   ]
  },
  {
   "cell_type": "code",
   "execution_count": 16,
   "metadata": {
    "deletable": false,
    "editable": false,
    "nbgrader": {
     "cell_type": "code",
     "checksum": "581fbd42241ce18d49f068d6e20787db",
     "grade": true,
     "grade_id": "cell-6f56cf18ba3807e3",
     "locked": true,
     "points": 3,
     "schema_version": 3,
     "solution": false,
     "task": false
    }
   },
   "outputs": [],
   "source": [
    "from sklearn.metrics import confusion_matrix\n",
    "skl_confusion_matrix_SVM = confusion_matrix(y_test, SVM_prediction)\n",
    "skl_confusion_matrix_NN = confusion_matrix(y_test, NN_prediction)\n",
    "\n",
    "assert np.sum(skl_confusion_matrix_SVM - SVM_CM) == 0\n",
    "assert np.sum(skl_confusion_matrix_NN - MLP_CM) == 0\n"
   ]
  },
  {
   "cell_type": "markdown",
   "metadata": {
    "deletable": false,
    "editable": false,
    "nbgrader": {
     "cell_type": "markdown",
     "checksum": "eb4f3eb9ac1a3128b1d7935e6214a2b3",
     "grade": false,
     "grade_id": "cell-e43e0672f19b397b",
     "locked": true,
     "schema_version": 3,
     "solution": false,
     "task": false
    }
   },
   "source": [
    "## TO DO 6: explain the results you got (max 5 lines)\n",
    "According to the cross-validation results, would you choose SVMs or NNs when 500 data points are available for training? Is this a good choice, given the results on the test set?\n",
    "\n",
    "Looking at the confusion matrices what to do you observe? On which classes each model is more likely to make mistakes? \n",
    "\n",
    "(Answer in the next cell, no need to add code)"
   ]
  },
  {
   "cell_type": "code",
   "execution_count": 17,
   "metadata": {
    "deletable": false,
    "nbgrader": {
     "cell_type": "code",
     "checksum": "72b92516e9aa2d4f8d4e74112f53ce82",
     "grade": true,
     "grade_id": "cell-2169ccc88e433acd",
     "locked": false,
     "points": 5,
     "schema_version": 3,
     "solution": true,
     "task": false
    }
   },
   "outputs": [],
   "source": [
    "# YOUR CODE HERE\n",
    "# According to the cross-validation results, I would choose the SVM's method because we got an higher score. Since after \n",
    "# fitting the models, we get a lower test error with SVM, the previous choice can be considered correct.\n",
    "# Looking at the confusion matrices, we can see that most of the classes are classified correctly, in fact the highest \n",
    "# values are along the main diagonal. However, with both methods, the models make more errors especially between classes 9 \n",
    "# and 4, and between classes 5 and 3. In fact, these numbers are visually similar to each others."
   ]
  },
  {
   "cell_type": "markdown",
   "metadata": {
    "deletable": false,
    "editable": false,
    "nbgrader": {
     "cell_type": "markdown",
     "checksum": "fc82858c9becc9bb1368624e44ea7315",
     "grade": false,
     "grade_id": "cell-fee6298e8b853f42",
     "locked": true,
     "schema_version": 3,
     "solution": false,
     "task": false
    }
   },
   "source": [
    "## More Data\n",
    "\n",
    "Now let's do the same but using more data points for training SVM and NN. For SVM we are going to use the best hyperparameters set (kernel, C, gamma, ...) found using 500 data points. For NNs we use the same best architecture as before, but you can try more if you want! "
   ]
  },
  {
   "cell_type": "code",
   "execution_count": 18,
   "metadata": {
    "deletable": false,
    "editable": false,
    "nbgrader": {
     "cell_type": "code",
     "checksum": "aeed066e86503e0951b48f996040232e",
     "grade": false,
     "grade_id": "cell-a848ab7cf8710da9",
     "locked": true,
     "schema_version": 3,
     "solution": false,
     "task": false
    }
   },
   "outputs": [
    {
     "name": "stdout",
     "output_type": "stream",
     "text": [
      "Lenght train dataset: 60000, Labels and frequencies: \n",
      " [('0', 5917), ('1', 6752), ('2', 5991), ('3', 6121), ('4', 5849), ('5', 5411), ('6', 5894), ('7', 6251), ('8', 5850), ('9', 5964)]\n",
      "Lenght test dataset: 10000, Labels and frequencies: \n",
      " [('0', 986), ('1', 1125), ('2', 999), ('3', 1020), ('4', 975), ('5', 902), ('6', 982), ('7', 1042), ('8', 975), ('9', 994)]\n"
     ]
    }
   ],
   "source": [
    "#let restart the random generator with the given seed\n",
    "np.random.seed(ID_number)\n",
    "\n",
    "m_t = 60000\n",
    "x_train, x_test, y_train, y_test = train_test_split(X, Y, train_size=m_t/len(Y), random_state=ID_number, stratify=Y)\n",
    "\n",
    "print(f'Lenght train dataset: {len(y_train)}, Labels and frequencies: \\n {list(zip(*np.unique(y_train, return_counts=True)))}')\n",
    "print(f'Lenght test dataset: {len(y_test)}, Labels and frequencies: \\n {list(zip(*np.unique(y_test, return_counts=True)))}')"
   ]
  },
  {
   "cell_type": "code",
   "execution_count": 19,
   "metadata": {
    "deletable": false,
    "editable": false,
    "nbgrader": {
     "cell_type": "code",
     "checksum": "0dff5030dc7e19118fa510d054d6e4e8",
     "grade": false,
     "grade_id": "cell-c56ddffa388c295b",
     "locked": true,
     "schema_version": 3,
     "solution": false,
     "task": false
    }
   },
   "outputs": [],
   "source": [
    "# As we did with the first HW let's use a decorator to measure time \n",
    "from collections import defaultdict\n",
    "running_times = defaultdict(list)\n",
    "\n",
    "def measure_time(function):\n",
    "    def wrap(*args, **kw):\n",
    "        import time \n",
    "        t_start = time.time()\n",
    "        result = function(*args, **kw)\n",
    "        t_end = time.time()\n",
    "        running_times[type(args[0]).__name__].append(t_end - t_start)\n",
    "        return result\n",
    "    return wrap\n",
    "\n",
    "@measure_time\n",
    "def fit_classification_model(model, x_train, y_train):\n",
    "    model.fit(x_train, y_train)"
   ]
  },
  {
   "cell_type": "code",
   "execution_count": 20,
   "metadata": {
    "deletable": false,
    "editable": false,
    "nbgrader": {
     "cell_type": "code",
     "checksum": "4c3827485cd11b58f4f02ff9f53bb94b",
     "grade": false,
     "grade_id": "cell-3c7f2a22ea32e670",
     "locked": true,
     "schema_version": 3,
     "solution": false,
     "task": false
    }
   },
   "outputs": [
    {
     "name": "stdout",
     "output_type": "stream",
     "text": [
      "Processing with 250 data ...\n",
      "Processing with 500 data ...\n",
      "Processing with 1000 data ...\n",
      "Processing with 2000 data ...\n",
      "Processing with 5000 data ...\n",
      "Processing with 7500 data ...\n"
     ]
    }
   ],
   "source": [
    "n_data = [250, 500, 1000, 2000, 5000, 7500]\n",
    "svm_train_err, svm_test_err = [], [] \n",
    "mlp_train_err, mlp_test_err = [], [] \n",
    "for n in n_data: \n",
    "    print(f'Processing with {n} data ...')\n",
    "    # Initialize models according to the best we got using 500 data\n",
    "    svm = SVC(kernel=best_kernel_type, **best_parameters)\n",
    "    mlp = MLPClassifier(**mlp_best_param, max_iter=max_iter, alpha=1e-4, solver='sgd', tol=1e-4, \n",
    "                        random_state=ID_number, learning_rate_init=.1)\n",
    "    \n",
    "    # fit svc\n",
    "    fit_classification_model(svm, x_train[:n], y_train[:n])\n",
    "    # get svc train and test error\n",
    "    svm_train_err.append(1. - svm.score(x_train[:n], y_train[:n]))\n",
    "    svm_test_err.append(1. - svm.score(x_test, y_test))\n",
    "    \n",
    "    # fit mlp\n",
    "    fit_classification_model(mlp, x_train[:n], y_train[:n])\n",
    "    # get mlp train and test error\n",
    "    mlp_train_err.append(1. - mlp.score(x_train[:n], y_train[:n]))\n",
    "    mlp_test_err.append(1. - mlp.score(x_test, y_test))"
   ]
  },
  {
   "cell_type": "code",
   "execution_count": 21,
   "metadata": {
    "deletable": false,
    "editable": false,
    "nbgrader": {
     "cell_type": "code",
     "checksum": "030387732a272284c3e9b089e47dc2c6",
     "grade": false,
     "grade_id": "cell-6a191a6232a2ccfb",
     "locked": true,
     "schema_version": 3,
     "solution": false,
     "task": false
    }
   },
   "outputs": [
    {
     "data": {
      "text/plain": [
       "(<matplotlib.legend.Legend at 0x253b3e96a00>, Text(0.5, 1.0, 'Training Time'))"
      ]
     },
     "execution_count": 21,
     "metadata": {},
     "output_type": "execute_result"
    },
    {
     "data": {
      "image/png": "[encoded data removed]",
      "text/plain": [
       "<Figure size 1080x360 with 2 Axes>"
      ]
     },
     "metadata": {
      "needs_background": "light"
     },
     "output_type": "display_data"
    }
   ],
   "source": [
    "fig, axes = plt.subplots(1,2, figsize=(15, 5))\n",
    "axes[0].plot(n_data, np.array(svm_train_err), label='SVM train err')\n",
    "axes[0].plot(n_data, np.array(svm_test_err), label='SVM test err')\n",
    "axes[0].plot(n_data, np.array(mlp_train_err), label='MLP train err')\n",
    "axes[0].plot(n_data, np.array(mlp_test_err), label='MLP test err')\n",
    "axes[0].set_xlabel('N data'), axes[0].set_ylabel('Loss')\n",
    "axes[0].legend(), axes[0].set_title('SVM vs MLP Errors')\n",
    "\n",
    "for model, times in running_times.items():\n",
    "    axes[1].plot(n_data, times, label=model)\n",
    "axes[1].set_xlabel('N data'), axes[1].set_ylabel('Time (s)')\n",
    "axes[1].legend(), axes[1].set_title('Training Time')"
   ]
  },
  {
   "cell_type": "markdown",
   "metadata": {
    "deletable": false,
    "editable": false,
    "nbgrader": {
     "cell_type": "markdown",
     "checksum": "d5fdf071e3931267ab7ffba21d029b8a",
     "grade": false,
     "grade_id": "cell-850f1836c9d53145",
     "locked": true,
     "schema_version": 3,
     "solution": false,
     "task": false
    }
   },
   "source": [
    "# TODO 7: Complete dataset\n",
    "\n",
    "In the following we will compare the last studied regression method (e.g. NN, with Multi-Layer Perceptron) with one from the very first homework.\n",
    "\n",
    "Among the different linear classifiers, we choose logistic regression (with standard parameters from scikit-learn but the number of iteration), given the good performances we obtained some weeks ago."
   ]
  },
  {
   "cell_type": "code",
   "execution_count": 22,
   "metadata": {
    "deletable": false,
    "nbgrader": {
     "cell_type": "code",
     "checksum": "859390c23f4ce4fc6a5fc409a9ea5077",
     "grade": false,
     "grade_id": "cell-916c97aa3e1b4655",
     "locked": false,
     "schema_version": 3,
     "solution": true,
     "task": false
    }
   },
   "outputs": [
    {
     "name": "stdout",
     "output_type": "stream",
     "text": [
      "Best logistic regression training error: 0.0607\n",
      "Best logistic regression test error: 0.0788\n"
     ]
    }
   ],
   "source": [
    "from sklearn import linear_model\n",
    "\n",
    "# Fit and test a logistic regression model\n",
    "max_iter = 1000\n",
    "log_reg = linear_model.LogisticRegression(max_iter=max_iter).fit(x_train, y_train)\n",
    "training_error_lr, test_error_lr = 1. - log_reg.score(x_train, y_train), 1. - log_reg.score(x_test, y_test)\n",
    "# YOUR CODE HERE\n",
    "# raise NotImplementedError() # Remove this line\n",
    "\n",
    "print (f\"Best logistic regression training error: {training_error_lr:.4f}\")\n",
    "print (f\"Best logistic regression test error: {test_error_lr:.4f}\")"
   ]
  },
  {
   "cell_type": "markdown",
   "metadata": {
    "deletable": false,
    "editable": false,
    "nbgrader": {
     "cell_type": "markdown",
     "checksum": "5e7a9430323ebf90a093328db30e68ec",
     "grade": false,
     "grade_id": "cell-005fbf84d90498d9",
     "locked": true,
     "schema_version": 3,
     "solution": false,
     "task": false
    }
   },
   "source": [
    "We now learn the NN. Below we use the same best architecture as before (found with 500 data), feel free to try larger ones (and to use again CV), or smaller ones if it takes too much time. (We suggest that you use 'verbose=True' so have an idea of how long it takes to run 1 iteration). \n",
    "\n",
    "*Note*: If you do again CV to choose the best architecture remember to save the best set of parameters into the variable: \"mlp_best_param\"."
   ]
  },
  {
   "cell_type": "code",
   "execution_count": 23,
   "metadata": {
    "deletable": false,
    "nbgrader": {
     "cell_type": "code",
     "checksum": "07272b840428d02e8d707f2827805efd",
     "grade": false,
     "grade_id": "cell-21ceb4a0710c5e96",
     "locked": false,
     "schema_version": 3,
     "solution": true,
     "task": false
    }
   },
   "outputs": [
    {
     "name": "stdout",
     "output_type": "stream",
     "text": [
      "Iteration 1, loss = 0.29386222\n",
      "Iteration 2, loss = 0.12645538\n",
      "Iteration 3, loss = 0.09667285\n",
      "Iteration 4, loss = 0.08176671\n",
      "Iteration 5, loss = 0.06880495\n",
      "Iteration 6, loss = 0.06109440\n",
      "Iteration 7, loss = 0.05277223\n",
      "Iteration 8, loss = 0.04719948\n",
      "Iteration 9, loss = 0.04400045\n",
      "Iteration 10, loss = 0.03926846\n",
      "Iteration 11, loss = 0.03671649\n",
      "Iteration 12, loss = 0.03237206\n",
      "Iteration 13, loss = 0.02980010\n",
      "Iteration 14, loss = 0.02709004\n",
      "Iteration 15, loss = 0.02331997\n",
      "Iteration 16, loss = 0.02483554\n",
      "Iteration 17, loss = 0.02489763\n",
      "Iteration 18, loss = 0.02145010\n",
      "Iteration 19, loss = 0.02117075\n",
      "Iteration 20, loss = 0.02066099\n",
      "Iteration 21, loss = 0.01778846\n",
      "Iteration 22, loss = 0.01734355\n",
      "Iteration 23, loss = 0.02010324\n",
      "Iteration 24, loss = 0.02077741\n",
      "Iteration 25, loss = 0.01993089\n",
      "Iteration 26, loss = 0.01764657\n",
      "Iteration 27, loss = 0.01153051\n",
      "Iteration 28, loss = 0.01165635\n",
      "Iteration 29, loss = 0.01567687\n",
      "Iteration 30, loss = 0.01625036\n",
      "Iteration 31, loss = 0.01522526\n",
      "Iteration 32, loss = 0.01840981\n",
      "Iteration 33, loss = 0.01627825\n",
      "Iteration 34, loss = 0.01687108\n",
      "Iteration 35, loss = 0.01583152\n",
      "Iteration 36, loss = 0.01663022\n",
      "Iteration 37, loss = 0.02284325\n",
      "Iteration 38, loss = 0.01659204\n",
      "Training loss did not improve more than tol=0.000100 for 10 consecutive epochs. Stopping.\n",
      "\n",
      "RESULTS FOR BEST NN\n",
      "\n",
      "Best NN training error: 0.0044\n",
      "Best NN test error: 0.0307\n"
     ]
    }
   ],
   "source": [
    "#get training and test error for the best NN model from CV\n",
    "best_mlp_large = MLPClassifier(**mlp_best_param, max_iter=max_iter, alpha=1e-4, solver='sgd', tol=1e-4, random_state=ID_number,\n",
    "                    learning_rate_init=.1, verbose=True) \n",
    "\n",
    "best_mlp_large.fit(x_train, y_train)\n",
    "\n",
    "training_error, test_error = 1. - best_mlp_large.score(x_train, y_train), 1. - best_mlp_large.score(x_test, y_test)\n",
    "# YOUR CODE HERE\n",
    "# raise NotImplementedError() # Remove this line\n",
    "\n",
    "print ('\\nRESULTS FOR BEST NN\\n')\n",
    "\n",
    "print (f\"Best NN training error: {training_error:.4f}\")\n",
    "print (f\"Best NN test error: {test_error:.4f}\")"
   ]
  },
  {
   "cell_type": "code",
   "execution_count": 24,
   "metadata": {
    "deletable": false,
    "editable": false,
    "nbgrader": {
     "cell_type": "code",
     "checksum": "92f74c6f90331e4be9a40075441dde9a",
     "grade": true,
     "grade_id": "cell-749912093733565e",
     "locked": true,
     "points": 3,
     "schema_version": 3,
     "solution": false,
     "task": false
    }
   },
   "outputs": [],
   "source": [
    "assert type(training_error) == np.float64\n",
    "assert type(test_error) == np.float64\n"
   ]
  },
  {
   "cell_type": "code",
   "execution_count": 25,
   "metadata": {
    "deletable": false,
    "nbgrader": {
     "cell_type": "code",
     "checksum": "c2228afe7fbe2434074e268dd0520524",
     "grade": false,
     "grade_id": "cell-ef2ebd626161b3c3",
     "locked": false,
     "schema_version": 3,
     "solution": true,
     "task": false
    }
   },
   "outputs": [
    {
     "data": {
      "text/plain": [
       "(Text(0.5, 1.0, 'MLP Train'), Text(0.5, 1.0, 'MLP Test'))"
      ]
     },
     "execution_count": 25,
     "metadata": {},
     "output_type": "execute_result"
    },
    {
     "data": {
      "image/png": "[encoded data removed]",
      "text/plain": [
       "<Figure size 1440x360 with 4 Axes>"
      ]
     },
     "metadata": {
      "needs_background": "light"
     },
     "output_type": "display_data"
    },
    {
     "data": {
      "image/png": "[encoded data removed]",
      "text/plain": [
       "<Figure size 1440x360 with 4 Axes>"
      ]
     },
     "metadata": {
      "needs_background": "light"
     },
     "output_type": "display_data"
    }
   ],
   "source": [
    "## TODO 8: compute the confusion matrices both on train and test set for Logistic regression (trained on 60k)\n",
    "# and MLP (trained on 60k).\n",
    "\n",
    "# Log Reg Confusion matrices\n",
    "log_reg_CM_train, log_reg_CM_test = confusion_matrix_by_hand(y_train, log_reg.predict(x_train)), confusion_matrix_by_hand(y_test, log_reg.predict(x_test))\n",
    "# YOUR CODE HERE\n",
    "# raise NotImplementedError() # Remove this line\n",
    "\n",
    "# mlp\n",
    "mlp_CM_train, mlp_CM_test = confusion_matrix_by_hand(y_train, best_mlp_large.predict(x_train)), confusion_matrix_by_hand(y_test, best_mlp_large.predict(x_test))\n",
    "# YOUR CODE HERE\n",
    "# raise NotImplementedError() # Remove this line\n",
    "\n",
    "\n",
    "# Convert confusion matrices to pandas data frames\n",
    "labels = np.unique(y_test)\n",
    "log_reg_CM_train_df = pd.DataFrame(log_reg_CM_train, index = labels, columns = labels)\n",
    "log_reg_CM_test_df = pd.DataFrame(log_reg_CM_test, index = labels, columns = labels)\n",
    "\n",
    "mlp_CM_train_df = pd.DataFrame(mlp_CM_train, index = labels, columns = labels)\n",
    "mlp_CM_test_df = pd.DataFrame(mlp_CM_test, index = labels, columns = labels)\n",
    "\n",
    "# Plot confusion matrices\n",
    "fig, axes = plt.subplots(1,2, figsize=(20,5))\n",
    "sn.heatmap(log_reg_CM_train_df, annot=True, ax=axes[0], cmap='rocket_r', vmax=cap(log_reg_CM_train_df)*2, fmt='d')\n",
    "sn.heatmap(log_reg_CM_test_df, annot=True, ax=axes[1], cmap='rocket_r', vmax=cap(log_reg_CM_test_df)*2, fmt='d')\n",
    "axes[0].set_title('Log Reg Train'), axes[1].set_title('Log Reg Test')\n",
    "# Opional line to plot a better table if you see first and last row halved\n",
    "# [ax.set_yticks(list(range(len(labels)+1))) for ax in axes]\n",
    "\n",
    "fig, axes = plt.subplots(1,2, figsize=(20,5))\n",
    "sn.heatmap(mlp_CM_train_df, annot=True, ax=axes[0], cmap='rocket_r', vmax=cap(mlp_CM_test_df)*2, fmt='d')\n",
    "sn.heatmap(mlp_CM_test_df, annot=True, ax=axes[1], cmap='rocket_r', vmax=cap(mlp_CM_test_df)*2, fmt='d')\n",
    "axes[0].set_title('MLP Train'), axes[1].set_title('MLP Test')\n",
    "# Opional line to plot a better table if you see first and last row halved\n",
    "# [ax.set_yticks(list(range(len(labels)+1))) for ax in axes]"
   ]
  },
  {
   "cell_type": "code",
   "execution_count": 26,
   "metadata": {
    "deletable": false,
    "editable": false,
    "nbgrader": {
     "cell_type": "code",
     "checksum": "56f669c88be1984b1e67a92933699740",
     "grade": true,
     "grade_id": "cell-20e1f551d47d4809",
     "locked": true,
     "points": 2,
     "schema_version": 3,
     "solution": false,
     "task": false
    }
   },
   "outputs": [],
   "source": [
    "assert log_reg_CM_train.shape == (10, 10)\n",
    "assert log_reg_CM_test.shape == (10, 10)\n",
    "assert mlp_CM_train.shape == (10, 10)\n",
    "assert mlp_CM_test.shape == (10, 10)\n"
   ]
  },
  {
   "cell_type": "markdown",
   "metadata": {
    "deletable": false,
    "editable": false,
    "nbgrader": {
     "cell_type": "markdown",
     "checksum": "a0cd0d6edc2b504fa308234016e395ed",
     "grade": false,
     "grade_id": "cell-bb8ab6d807b36a9e",
     "locked": true,
     "schema_version": 3,
     "solution": false,
     "task": false
    }
   },
   "source": [
    "## TO DO 9\n",
    "Compare and discuss:\n",
    "- compare the computational time required to fit a SVM and a MLP. Which is faster as the number of data increase? Why? Can you apply both methods in the high data regime?\n",
    "- the results from SVM m=7500 and NN with m=60000 training data points.\n",
    "- the results from NN with m=500 and m=60000 training data points.\n",
    "- What do you observe in the confusion matrices? Which are the hardest classes? Are the hardest and easiest classes the same both for mlp and logistic regression?\n",
    "\n",
    "(Answer in the next cell, no need to write code)"
   ]
  },
  {
   "cell_type": "code",
   "execution_count": 27,
   "metadata": {
    "deletable": false,
    "nbgrader": {
     "cell_type": "code",
     "checksum": "d99aa493023e864db6ea7ad3b742b124",
     "grade": true,
     "grade_id": "cell-fd40eed840f9e7a0",
     "locked": false,
     "points": 5,
     "schema_version": 3,
     "solution": true,
     "task": false
    }
   },
   "outputs": [],
   "source": [
    "# YOUR CODE HERE\n",
    "# By comparing the computation times required by SVM and MLP, we can see that as the number of data increases, the second \n",
    "# method is faster. This is because with the SVM method the computation time increase more and more with the number of data\n",
    "# points, the MLP method used stochastic gradient or more likely, the minibatch SGD that can handle the computation time \n",
    "# with large dataset. In addition, with MLP we can exploit the backpropagation algorithm to compute the gradients in a \n",
    "# more efficient way, thanks to the structure of the neural network. Bottom line, for large datasets it is preferable to \n",
    "# use the MLP method, while for smaller datasets it is better to use SVM which, as we have seen, produced a lower test \n",
    "# error.\n",
    "\n",
    "# Comparing the results from SVM with m=7500 and NN with m=60000 training data points, we can see that the test errors are \n",
    "# very similar, ~0.0394 for SVM method and ~0.0307 for the NN method. \n",
    "# However, comparing the computational time, while SVM takes about 8 seconds, MLP runs for about 40 seconds.\n",
    "\n",
    "# Comparing the results from NN with m=500 and m=60000 training data points, we can observe that in the first \n",
    "# case we get a lower training error, while in the second case we get a slightly higher training error.\n",
    "# However, looking at the test error, with lower data points we get an higher test error, while in the second case a much \n",
    "# lower test error. This is expected, since we know that the larger is the training dataset, the better will be the \n",
    "# performance.\n",
    "\n",
    "# From the confusion matrices's plot, we can easily see that the confusion matrix with respect to the training data is \n",
    "# better than that of the corresponding method with the test data.\n",
    "# This is expected, since we train our model on training data, so it will perform better on train data rather than on test \n",
    "# data. In addition, comparing the confusion matrices of test set for logistic regression and MLP, we can observe that, the\n",
    "# MLP method performs much better, but the hardest and easiest classes to classifiy are very similar in both case.\n",
    "# In particular, the easiest class seems to be the 1st while the hardest class is the 5th."
   ]
  },
  {
   "cell_type": "code",
   "execution_count": null,
   "metadata": {},
   "outputs": [],
   "source": []
  }
 ],
 "metadata": {
  "anaconda-cloud": {},
  "kernelspec": {
   "display_name": "Python 3",
   "language": "python",
   "name": "python3"
  },
  "language_info": {
   "codemirror_mode": {
    "name": "ipython",
    "version": 3
   },
   "file_extension": ".py",
   "mimetype": "text/x-python",
   "name": "python",
   "nbconvert_exporter": "python",
   "pygments_lexer": "ipython3",
   "version": "3.8.8"
  }
 },
 "nbformat": 4,
 "nbformat_minor": 2
}
