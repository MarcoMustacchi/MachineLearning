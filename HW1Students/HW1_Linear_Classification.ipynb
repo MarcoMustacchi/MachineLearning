{
 "cells": [
  {
   "cell_type": "markdown",
   "metadata": {},
   "source": [
    "Before you turn this problem in, make sure everything runs as expected. First, **restart the kernel** (in the menubar, select Kernel$\\rightarrow$Restart) and then **run all cells** (in the menubar, select Cell$\\rightarrow$Run All).\n",
    "\n",
    "Make sure you fill in any place that says `YOUR CODE HERE` or \"YOUR ANSWER HERE\" and remove every line containing the expression: \"raise ...\" (if you leave such a line your code will not run).\n",
    "\n",
    "Do not remove any cell from the notebook you downloaded. You can add any number of cells (and remove them if not more necessary). \n",
    "\n",
    "## IMPORTANT: make sure to rerun all the code from the beginning to obtain the results for the final version of your notebook, since this is the way we will do it before evaluating your notebook!!!\n",
    "\n",
    "Fill in your name and id number (numero matricola) below:"
   ]
  },
  {
   "cell_type": "code",
   "execution_count": 1,
   "metadata": {},
   "outputs": [],
   "source": [
    "NAME = \"Marco Mustacchi\"\n",
    "ID_number = int(\"2054137\")\n",
    "\n",
    "import IPython\n",
    "assert IPython.version_info[0] >= 3, \"Your version of IPython is too old, please update it.\""
   ]
  },
  {
   "cell_type": "markdown",
   "metadata": {},
   "source": [
    "---"
   ]
  },
  {
   "cell_type": "markdown",
   "metadata": {
    "deletable": false,
    "editable": false,
    "nbgrader": {
     "cell_type": "markdown",
     "checksum": "4ef6a856bf6996469a4cfb2175d6df79",
     "grade": false,
     "grade_id": "cell-0b45e876b590deca",
     "locked": true,
     "schema_version": 3,
     "solution": false,
     "task": false
    }
   },
   "source": [
    "# Classification on Wine Dataset\n",
    "\n",
    "### Dataset description\n",
    "\n",
    "We will be working with a dataset on wines from the UCI machine learning repository\n",
    "(http://archive.ics.uci.edu/ml/datasets/Wine ). It contains data for 178 instances. \n",
    "The dataset is the results of a chemical analysis of wines grown in the same region\n",
    "in Italy but derived from three different cultivars. The analysis determined the\n",
    "quantities of 13 constituents found in each of the three types of wines. \n",
    "\n",
    "### The features in the dataset are:\n",
    "\n",
    "- Alcohol\n",
    "- Malic acid\n",
    "- Ash\n",
    "- Alcalinity of ash\n",
    "- Magnesium\n",
    "- Total phenols\n",
    "- Flavanoids\n",
    "- Nonflavanoid phenols\n",
    "- Proanthocyanins\n",
    "- Color intensity\n",
    "- Hue\n",
    "- OD280/OD315 of diluted wines\n",
    "-Proline\n",
    "\n",
    "\n"
   ]
  },
  {
   "cell_type": "markdown",
   "metadata": {
    "deletable": false,
    "editable": false,
    "nbgrader": {
     "cell_type": "markdown",
     "checksum": "de27abe278eac61bd289180959f88630",
     "grade": false,
     "grade_id": "cell-12773fe6d001aa0d",
     "locked": true,
     "schema_version": 3,
     "solution": false,
     "task": false
    }
   },
   "source": [
    "We first import all the packages that are needed"
   ]
  },
  {
   "cell_type": "code",
   "execution_count": 2,
   "metadata": {
    "deletable": false,
    "editable": false,
    "nbgrader": {
     "cell_type": "code",
     "checksum": "0c82bec8fe7400a21b5b3de069c954ab",
     "grade": false,
     "grade_id": "cell-18fb2059facb1757",
     "locked": true,
     "schema_version": 3,
     "solution": false,
     "task": false
    }
   },
   "outputs": [],
   "source": [
    "%matplotlib inline\n",
    "import matplotlib.pyplot as plt\n",
    "\n",
    "\n",
    "import numpy as np\n",
    "import scipy as sp\n",
    "from scipy import stats\n",
    "from sklearn import datasets\n",
    "from sklearn import linear_model\n",
    "import copy"
   ]
  },
  {
   "cell_type": "code",
   "execution_count": 3,
   "metadata": {
    "deletable": false,
    "editable": false,
    "nbgrader": {
     "cell_type": "code",
     "checksum": "66c1ac60874c5ce72ce214211c19bb3f",
     "grade": false,
     "grade_id": "cell-ecb42095dd5d61b9",
     "locked": true,
     "schema_version": 3,
     "solution": false,
     "task": false
    }
   },
   "outputs": [],
   "source": [
    "np.random.seed(ID_number)"
   ]
  },
  {
   "cell_type": "markdown",
   "metadata": {
    "deletable": false,
    "editable": false,
    "nbgrader": {
     "cell_type": "markdown",
     "checksum": "ef16821f9da27091d8ede41df14b6cbc",
     "grade": false,
     "grade_id": "cell-7e0a653355f6eaf6",
     "locked": true,
     "schema_version": 3,
     "solution": false,
     "task": false
    }
   },
   "source": [
    "# Perceptron\n",
    "We will implement the perceptron and use it to learn a halfspace with 0-1 loss."
   ]
  },
  {
   "cell_type": "markdown",
   "metadata": {
    "deletable": false,
    "editable": false,
    "nbgrader": {
     "cell_type": "markdown",
     "checksum": "3b82d7bc9cf6d8a1a756094ba3e077e9",
     "grade": false,
     "grade_id": "cell-afd6e34f8a3801f7",
     "locked": true,
     "schema_version": 3,
     "solution": false,
     "task": false
    }
   },
   "source": [
    "Load the dataset from scikit learn and then split in training set and test set (50%-50%) after applying a random permutation to the dataset."
   ]
  },
  {
   "cell_type": "code",
   "execution_count": 4,
   "metadata": {},
   "outputs": [],
   "source": [
    "# Load the dataset from scikit learn\n",
    "wine = datasets.load_wine()\n",
    "# Get input and output data from the dataset\n",
    "X = wine.data\n",
    "Y = wine.target\n",
    "# Create new labels\n",
    "Y = np.where(Y == 0, -1, Y)\n",
    "Y = np.where(Y == 2, -1, Y)\n",
    "# Let's get the number of features\n",
    "d = X.shape[1]"
   ]
  },
  {
   "cell_type": "code",
   "execution_count": 5,
   "metadata": {
    "deletable": false,
    "editable": false,
    "nbgrader": {
     "cell_type": "code",
     "checksum": "c611e9863df5d7b5255996608a3a2133",
     "grade": false,
     "grade_id": "cell-ec8c87debd43b523",
     "locked": true,
     "schema_version": 3,
     "solution": false,
     "task": false
    }
   },
   "outputs": [],
   "source": [
    "##### Helper functions, do not modify them. You will need them for the first TODO\n",
    "def check_constraints(labels, all_possibile_labels, min_num_istances):\n",
    "    # Count the number of occurrences using numpy\n",
    "    unique, counts = np.unique(labels, return_counts=True)\n",
    "    if len(all_possibile_labels) != len(unique):\n",
    "        return True\n",
    "    if (counts >= min_num_istances).all():\n",
    "        return False\n",
    "    else:\n",
    "        return True\n",
    "    \n",
    "def need_new_shuffle(y_train, y_test, all_possibile_labels, min_num_istances): \n",
    "    return (check_constraints(y_train, all_possibile_labels, min_num_istances) or \n",
    "            check_constraints(y_test, all_possibile_labels, min_num_istances))"
   ]
  },
  {
   "cell_type": "code",
   "execution_count": 6,
   "metadata": {
    "deletable": false,
    "nbgrader": {
     "cell_type": "code",
     "checksum": "957aa6aa31dc6374050deb2a164240dd",
     "grade": false,
     "grade_id": "cell-d02ac71a8713e5a9",
     "locked": false,
     "schema_version": 3,
     "solution": true,
     "task": false
    }
   },
   "outputs": [],
   "source": [
    "# TODO 1\n",
    "# Write a function (create_train_val_test_datasets) which takes as input a dataset and returns 2 datasets: \n",
    "# S_t and S_test (different runs are supposed) to return different datasets.\n",
    "# Write a function (create_train_val_test_datasets_with_constraints) which splits our data in S_t and S_test with \n",
    "# the additional constraint that in each dataset we MUST have more than min_num_istances per class.\n",
    "# Each dataset is represented as a matrix m \\times d (numpy ndarray), where m is the number of data and d is the \n",
    "# number of features.\n",
    "# To solve this TODO use the functions we provide you: check_constraints and need_new_shuffle\n",
    "\n",
    "def create_train_val_test_datasets(features : np.ndarray, labels: np.ndarray, m_t : int, m_test : int):\n",
    "    '''\n",
    "    Create training (S_t) and test (S_test) sets starting from a dataset. \n",
    "    This function shuffles the complete dataset before creating the subsets. \n",
    "    If you call this function twice it is expected to get different S_t, S_test. \n",
    "    \n",
    "    :param features: NumPy ndarray containing all the input data data we can use\n",
    "    :param labels: NumPy ndarray containing all the labels we have\n",
    "    :param m_t: Number of samples for the training dataset\n",
    "    :param m_test: Number of samples for the test dataset\n",
    "    \n",
    "    :returns: (x_train, y_train, x_test, y_test)\n",
    "    :rtype: tuple\n",
    "        WHERE\n",
    "        x_train : np.ndarray features in the training dataset\n",
    "        y_train : np.ndarray labels in the training dataset\n",
    "        x_test : np.ndarray features in the test dataset\n",
    "        y_test : np.ndarray labels in the test dataset\n",
    "    '''\n",
    "    # SUGGESTION: Use the function np.random.permutation (see the documentation) to create a permutation of the \n",
    "    #             dataset indexes. Then use these shuffled indexes to create S_t, S_val, S_test\n",
    "    # YOUR CODE HERE\n",
    "    index = np.random.permutation((features.shape[0]))\n",
    "    x_train = np.zeros((m_t, features.shape[1]))\n",
    "    x_test = np.zeros((m_test, features.shape[1]))\n",
    "    y_train = np.zeros(m_t)\n",
    "    y_test = np.zeros(m_test)\n",
    "    i=0\n",
    "    \n",
    "    for a in range(m_t):\n",
    "        x_train[a,:] = features[index[i],:]\n",
    "        y_train[a] = labels[index[i]]\n",
    "        i=i+1\n",
    "   \n",
    "    for b in range(m_test):\n",
    "        x_test[b,:] = features[index[i],:]\n",
    "        y_test[b] = labels[index[i]]\n",
    "        i=i+1\n",
    "    \n",
    "    return x_train, y_train, x_test, y_test\n",
    "\n",
    "\n",
    "def create_train_val_test_datasets_with_constraints(features : np.ndarray, labels: np.ndarray, m_t : int, \n",
    "                                                    m_test : int, min_num_istances : int):\n",
    "    '''\n",
    "    Same as function above but now we are imposing the constraints: the splitted datasets are assumed to contain \n",
    "    at least min_num_istances per class.\n",
    "    \n",
    "    ...\n",
    "    :param min_num_istances: Minimum number of istances per class in each of the splitted datasets\n",
    "    ...\n",
    "    \n",
    "    '''\n",
    "    all_possibile_labels = np.unique(labels)\n",
    "    # YOUR CODE HERE\n",
    "    x_train, y_train, x_test, y_test = create_train_val_test_datasets(features, labels, m_t, m_test)\n",
    "    reshuffle = need_new_shuffle(y_train, y_test, all_possibile_labels, min_num_istances)\n",
    "    \n",
    "    while reshuffle == True :\n",
    "        x_train, y_train, x_test, y_test = create_train_val_test_datasets(features, labels, m_t, m_test)\n",
    "        reshuffle = need_new_shuffle(y_train, y_test, all_possibile_labels, min_num_istances)\n",
    "        \n",
    "    return x_train, y_train, x_test, y_test\n",
    "\n",
    "m_t = 80\n",
    "x_train, y_train, x_test, y_test = create_train_val_test_datasets_with_constraints(X, Y, m_t, len(Y)-m_t, 25)\n",
    "\n",
    "# print(x_train)\n",
    "# print(x_test)\n",
    "# print(y_train)\n",
    "# print(y_test)\n",
    "# print(y_train.shape)\n",
    "# print(y_test.shape)"
   ]
  },
  {
   "cell_type": "code",
   "execution_count": 7,
   "metadata": {
    "deletable": false,
    "editable": false,
    "nbgrader": {
     "cell_type": "code",
     "checksum": "838724b9559e75799f3fe903aafc9b85",
     "grade": true,
     "grade_id": "cell-e51332c46f70a2fd",
     "locked": true,
     "points": 3,
     "schema_version": 3,
     "solution": false,
     "task": false
    }
   },
   "outputs": [],
   "source": [
    "assert x_train.shape == (m_t,       x_train.shape[1]) # here we are comparing two tuples (it is an element wise comparison)\n",
    "assert x_test.shape  == (len(Y)-m_t, x_test.shape[1])"
   ]
  },
  {
   "cell_type": "code",
   "execution_count": 8,
   "metadata": {
    "deletable": false,
    "editable": false,
    "nbgrader": {
     "cell_type": "code",
     "checksum": "7d64cc58d083d2f6bc0c623724411155",
     "grade": false,
     "grade_id": "cell-ac04c6e54551b392",
     "locked": true,
     "schema_version": 3,
     "solution": false,
     "task": false
    }
   },
   "outputs": [],
   "source": [
    "# Let's add a 1 in front of each sample so that we can use a vector to describe all the coefficients of the model.\n",
    "# Do not run this cell multiple times otherwise you will continue adding ones... \n",
    "# (we add the assert to avoid such issue)\n",
    "\n",
    "assert x_train.shape[1] == d\n",
    "assert x_test.shape[1] == d \n",
    "\n",
    "x_train = np.hstack((np.ones((x_train.shape[0],1)), x_train))\n",
    "x_test  = np.hstack((np.ones((x_test.shape[0],1)),  x_test))"
   ]
  },
  {
   "cell_type": "markdown",
   "metadata": {
    "deletable": false,
    "editable": false,
    "nbgrader": {
     "cell_type": "markdown",
     "checksum": "03f294d2454985bd2759e7046cd66764",
     "grade": false,
     "grade_id": "cell-e62f679cad1d169b",
     "locked": true,
     "schema_version": 3,
     "solution": false,
     "task": false
    }
   },
   "source": [
    "**TO DO 2** Now complete the function *perceptron*. Since the perceptron does not terminate if the data is not linearly separable, your implementation should return the desired output (see below) if it reached the termination condition seen in class or if a maximum number of iterations have already been run, where 1 iteration corresponds to 1 update of the perceptron weights. If the perceptron returns because the maximum number of iterations has been reached, you should return an appropriate model (the best seen along the iterations). \n",
    "\n",
    "The input parameters to pass are:\n",
    "- $X$: the matrix of input features, one row for each sample\n",
    "- $Y$: the vector of labels for the input features matrix X\n",
    "- $max\\_num\\_iterations$: the maximum number of iterations for running the perceptron\n",
    "\n",
    "The output values are:\n",
    "- $best\\_w$: the vector with the coefficients of the best model\n",
    "- $best\\_error$: the *fraction* of missclassified samples for the best model\n",
    "- $w\\_iters$: a list of the coefficients found by the algorithm, in those iterations in which the error decreases. This is an 'auxiliary output' (it is not needed for the actual algorithm) that will allows us to have a better insight on the algorithm's behaviour\n",
    "- $error\\_iters$: a list of the *fractions* of missclassified samples for every model found through the same iterations as for the list above. Again an auxiliary output.\n",
    "\n",
    "\n",
    "**Auxiliary functions**\n",
    "\n",
    "In order to correclty complete the perceptron function it is warmly recommended to define some auxiliary functions (\"*find_missclassified*\" and \"*choose_missclassified*\"). \n",
    "\n",
    "\n",
    "\"__find_missclassified__\"\n",
    "This function looks for missclassified data points in the dataset $X$.\n",
    "\n",
    "The input parameters to pass are:\n",
    "- $X$: the matrix of input features, one row for each sample\n",
    "- $Y$: the vector of labels for the input features matrix X\n",
    "- $curr\\_w$: the current value of the parameter vector *w*\n",
    "\n",
    "The output value is:\n",
    "- $missclassified\\_indeces$: a numpy array cointaining all the missclassified indeces  \n",
    "\n",
    "\n",
    "\"__choose_missclassified__\"\n",
    "This function return one single index choosen from a array of indeces. If the array is empty it returns a non valid index: -1. \n",
    "\n",
    "The input parameters to pass are:\n",
    "- $missclassified\\_indeces$: numpy arrya containing missclassified indeces\n",
    "\n",
    "The output value is:\n",
    "- $index$: Integer (or np.int64) containing the choosen index\n"
   ]
  },
  {
   "cell_type": "code",
   "execution_count": 9,
   "metadata": {
    "deletable": false,
    "nbgrader": {
     "cell_type": "code",
     "checksum": "4cdc61da992cca686d30b4de4d6a8564",
     "grade": false,
     "grade_id": "cell-3a616874d5d69312",
     "locked": false,
     "schema_version": 3,
     "solution": true,
     "task": false
    }
   },
   "outputs": [],
   "source": [
    "# TODO 2\n",
    "def find_missclassified(X,Y,curr_w):\n",
    "    # Here you can use np.argwhere to find which model predictions are correct (this is faster than a for loop)\n",
    "    # but be carefull on the dimensions of your predictions vector and Y vector.\n",
    "    # YOUR CODE HERE\n",
    "    # missclassified_indeces = np.argwhere(Y * np.matmul(X, curr_w.reshape(-1,1)) <= 0 ) # Y e' vettore colonna, \n",
    "                                                                        # se tengo cosi fa broadcasting e ottengo matrice\n",
    "    missclassified_indeces = np.argwhere(Y.reshape(-1,1) * np.matmul(X, curr_w.reshape(-1,1)) <= 0 )\n",
    "    return missclassified_indeces.reshape(-1,)\n",
    "\n",
    "def choose_missclassified(missclassified_indeces):\n",
    "    # YOUR CODE HERE\n",
    "    if missclassified_indeces.size == 0:\n",
    "        index = -1\n",
    "    else:\n",
    "        index = np.random.choice(missclassified_indeces[::2]) # step di due in modo da non selezionare gli zeri  \n",
    "    return index\n",
    "\n",
    "\n",
    "def perceptron(X,Y,max_num_iterations):\n",
    "    #INITIALIZATION\n",
    "    curr_w = np.zeros(X.shape[1])\n",
    "    best_w = curr_w\n",
    "    num_samples = X.shape[0]\n",
    "    best_error = num_samples+1  # max + 1 number of possible errors \n",
    "    w_iters = []\n",
    "    error_iters = []\n",
    "    \n",
    "    missclassified_indeces = find_missclassified(X,Y,curr_w)\n",
    "    num_missclassified = missclassified_indeces.shape[0]/2\n",
    "    index_missclassified = choose_missclassified(missclassified_indeces)\n",
    "    \n",
    "    # YOUR CODE HERE\n",
    "    w_iters.append(curr_w)\n",
    "    error_iters.append(num_missclassified) \n",
    "    \n",
    "    num_iter = 1  \n",
    "    # while False: pass # Remove this False and pass and place the right termination conditionS\n",
    "        # Update rule\n",
    "    # YOUR CODE HERE\n",
    "    while index_missclassified != -1 and num_iter < max_num_iterations:\n",
    "        curr_w = curr_w + (Y[index_missclassified]*X[index_missclassified,:])\n",
    "        # Update missclassified data points and choose a new missclassified data point\n",
    "        # YOUR CODE HERE\n",
    "        missclassified_indeces = find_missclassified(X,Y,curr_w)\n",
    "        num_missclassified = missclassified_indeces.shape[0]/2  # ATTENZIONE, poiche' abbiamo il doppio \n",
    "                                                                # delle righe dovute al reshape\n",
    "        index_missclassified = choose_missclassified(missclassified_indeces)\n",
    "\n",
    "        # Update (if necessary) the best error achieved together with the best parameter up to now. \n",
    "        # Use copy.copy(curr_w) to copy your current w on \"best_w\" (since these are arrays you would be copying \n",
    "        # only the pointer if you do not use copy.copy) and to append your current w to the list of all w found so far\n",
    "        # Append the current error to the list of all errors found so far\n",
    "        # YOUR CODE HERE\n",
    "        if num_missclassified < best_error:\n",
    "            best_error = num_missclassified\n",
    "            best_w = copy.copy(curr_w) \n",
    "            error_iters.append(num_missclassified) \n",
    "            w_iters.append(curr_w)\n",
    "   \n",
    "        num_iter = num_iter + 1\n",
    "\n",
    "    best_error = float(best_error)/float(num_samples)\n",
    "    return best_w, best_error, w_iters, error_iters\n",
    "\n",
    "best_w, best_error, w_iters, error_iters = perceptron(x_train, y_train, 100)"
   ]
  },
  {
   "cell_type": "code",
   "execution_count": 10,
   "metadata": {
    "deletable": false,
    "editable": false,
    "nbgrader": {
     "cell_type": "code",
     "checksum": "438f41a962eac3d45493c6001cdc0968",
     "grade": true,
     "grade_id": "cell-f8a90f0c3f9aecb7",
     "locked": true,
     "points": 8,
     "schema_version": 3,
     "solution": false,
     "task": false
    }
   },
   "outputs": [],
   "source": [
    "index = choose_missclassified(np.array(list(range(100))))\n",
    "assert type(index) == np.int64 or type(index) == int or type(index) == np.int32\n"
   ]
  },
  {
   "cell_type": "code",
   "execution_count": 11,
   "metadata": {
    "deletable": false,
    "editable": false,
    "nbgrader": {
     "cell_type": "code",
     "checksum": "4e68d44e981c0500c5373c42b0764a6c",
     "grade": false,
     "grade_id": "cell-095ff4deafd22d73",
     "locked": true,
     "schema_version": 3,
     "solution": false,
     "task": false
    }
   },
   "outputs": [
    {
     "name": "stdout",
     "output_type": "stream",
     "text": [
      "Training error with 100 iterations: 0.1875\n"
     ]
    }
   ],
   "source": [
    "# Now run the perceptron for 100 iterations\n",
    "# We want just to see the output of the algorithm, so we can avoid assigning the auxiliary outputs to actual variables\n",
    "w_found, training_error, _, _ = perceptron(x_train, y_train, 100)\n",
    "print(\"Training error with 100 iterations: \" + str(training_error))"
   ]
  },
  {
   "cell_type": "code",
   "execution_count": 12,
   "metadata": {
    "deletable": false,
    "nbgrader": {
     "cell_type": "code",
     "checksum": "a2962fcea22d2344b6303c8a6d295084",
     "grade": false,
     "grade_id": "cell-a9cd59af4f855da0",
     "locked": false,
     "schema_version": 3,
     "solution": true,
     "task": false
    }
   },
   "outputs": [],
   "source": [
    "# TODO 3 \n",
    "# Write a function to compute the fraction of missclassified samples given two nd.array vectors of shape number of \n",
    "# data times 1 (column vectors)\n",
    "def classification_loss(y_target : np.ndarray, predictions : np.ndarray) -> float:\n",
    "    '''\n",
    "    This function computes the fraction of missclassified samples given two vectors: true labels and predictions. \n",
    "    :param y_target: output labels\n",
    "    :param predictions: predictions\n",
    "    \n",
    "    :return: Fraction of missclassified samples\n",
    "    '''\n",
    "    # YOUR CODE HERE\n",
    "#     # missclassified_indeces = [] # attenzione cosi' e' sbagliato perche' non definisco array numpy ma lista\n",
    "#     missclassified_indeces = np.array([])\n",
    "#     for i in range(len(y_target)): # attenzione i parte da 0\n",
    "#         if y_target[i] != predictions[i] :\n",
    "#             missclassified_indeces = np.append(missclassified_indeces, i)\n",
    "    missclassified_indeces = np.argwhere(y_target != predictions)\n",
    "    return missclassified_indeces.shape[0] / y_target.shape[0]\n",
    "\n",
    "\n",
    "# Write a function to comptue the fraction of missclassified samples for a generic dataset given inputs, targets and \n",
    "# a vector w.\n",
    "def compute_fraction_missclassified(X : np.ndarray, Y : np.ndarray, w : np.ndarray) -> float:\n",
    "    '''\n",
    "    This function computes the fraction of missclassified samples of model parametrized by w on the data X w.r.t. \n",
    "    targets Y. \n",
    "    :param X: input locations\n",
    "    :param Y: targets\n",
    "    :param w: parameters of the model to be tested\n",
    "    \n",
    "    :return: Fraction of missclassified samples\n",
    "    '''\n",
    "    # YOUR CODE HERE\n",
    "    missclassified_indeces = find_missclassified(X, Y, w)\n",
    "    # missclassified_indeces = np.argwhere(Y.reshape(-1,1) * np.matmul(X, curr_w.reshape(-1,1)) <= 0 )\n",
    "    fraction_missclass = float(missclassified_indeces.shape[0]/2) / float(X.shape[0])\n",
    "    return fraction_missclass"
   ]
  },
  {
   "cell_type": "code",
   "execution_count": 13,
   "metadata": {
    "deletable": false,
    "editable": false,
    "nbgrader": {
     "cell_type": "code",
     "checksum": "35607e8fa3a23c1c961161be3f18fa51",
     "grade": true,
     "grade_id": "cell-37188909eff59ebb",
     "locked": true,
     "points": 2,
     "schema_version": 3,
     "solution": false,
     "task": false
    }
   },
   "outputs": [],
   "source": [
    "assert classification_loss(np.array([[1],[3]]), np.array([[1],[3]])) == 0\n",
    "assert classification_loss(np.array([[1],[2]]), np.array([[1],[3]])) == 0.5\n",
    "y_labels, y_predictions = np.random.choice(10, 1000000), np.random.choice(10, 1000000)\n",
    "assert np.isclose(classification_loss(y_labels, y_predictions), 0.9, atol=0.01)\n",
    "assert training_error == compute_fraction_missclassified(x_train, y_train, w_found)\n"
   ]
  },
  {
   "cell_type": "markdown",
   "metadata": {
    "deletable": false,
    "editable": false,
    "nbgrader": {
     "cell_type": "markdown",
     "checksum": "f97555da1f74491c0c6d64443c720ea3",
     "grade": false,
     "grade_id": "cell-f450a5d89edf3906",
     "locked": true,
     "schema_version": 3,
     "solution": false,
     "task": false
    }
   },
   "source": [
    "We now use the best model $w\\_found$ to predict the labels for the test dataset and print the fraction of missclassified samples in the test set (that is an estimate of the true loss)."
   ]
  },
  {
   "cell_type": "code",
   "execution_count": 14,
   "metadata": {
    "deletable": false,
    "editable": false,
    "nbgrader": {
     "cell_type": "code",
     "checksum": "f4d243c6f58881e06c80a96a04857062",
     "grade": false,
     "grade_id": "cell-cc7f13766f7358b1",
     "locked": true,
     "schema_version": 3,
     "solution": false,
     "task": false
    }
   },
   "outputs": [
    {
     "name": "stdout",
     "output_type": "stream",
     "text": [
      "Training Error for 100 iterations is 0.1875\n",
      "Test Error for 100 iterations is 0.3163\n"
     ]
    }
   ],
   "source": [
    "print(f\"Training Error for 100 iterations is {compute_fraction_missclassified(x_train, y_train, w_found):.4f}\")\n",
    "print(f\"Test Error for 100 iterations is {compute_fraction_missclassified(x_test, y_test, w_found):.4f}\")"
   ]
  },
  {
   "cell_type": "code",
   "execution_count": 15,
   "metadata": {
    "deletable": false,
    "editable": false,
    "nbgrader": {
     "cell_type": "code",
     "checksum": "3a3ae01f989aaeadfe8dd2119672a1cb",
     "grade": false,
     "grade_id": "cell-69bcb07038fe4647",
     "locked": true,
     "schema_version": 3,
     "solution": false,
     "task": false
    }
   },
   "outputs": [
    {
     "name": "stdout",
     "output_type": "stream",
     "text": [
      "Training Error for 10000 iterations is 0.1375\n",
      "Test Error for 10000 iterations is 0.3265\n"
     ]
    }
   ],
   "source": [
    "# now run the perceptron for 10000 iterations\n",
    "# This time we assign also the auxiliary outputs! They will be useful later on!\n",
    "w_found, training_error, w_list, error_list_train = perceptron(x_train, y_train, 10000)\n",
    "print(f\"Training Error for 10000 iterations is {compute_fraction_missclassified(x_train, y_train, w_found):.4f}\")\n",
    "print(f\"Test Error for 10000 iterations is {compute_fraction_missclassified(x_test, y_test, w_found):.4f}\")"
   ]
  },
  {
   "cell_type": "markdown",
   "metadata": {
    "deletable": false,
    "editable": false,
    "nbgrader": {
     "cell_type": "markdown",
     "checksum": "469c760d825c24576002ab57a889b4f5",
     "grade": false,
     "grade_id": "cell-b46ec6017397bf6c",
     "locked": true,
     "schema_version": 3,
     "solution": false,
     "task": false
    }
   },
   "source": [
    "**TO DO 4**: Answer in the next cell (you do not need more than 5-7 lines):\n",
    "\n",
    "1- Consider 100 iterations: what relation do you observe between the training error and the (estimated) true loss? Is this what you expected? Explain what you observe and why it does or does not conform to your expectations.\n",
    "\n",
    "2- Consider 10000 iterations, what has changed? Explain what you observe and why it does or does not conform to your expectations."
   ]
  },
  {
   "cell_type": "markdown",
   "metadata": {
    "deletable": false,
    "nbgrader": {
     "cell_type": "markdown",
     "checksum": "c7187b5f0ef3eb2404161444d5c066f9",
     "grade": true,
     "grade_id": "cell-5r8a6b5a5434d45a",
     "locked": false,
     "points": 5,
     "schema_version": 3,
     "solution": true,
     "task": false
    }
   },
   "source": [
    "YOUR ANSWER HERE\n",
    "1- I observe that the training error is lower than the estimated true loss. This is in accordance with my expectation because we trained our model on training data. So I would expect the error to be smaller on training set.\n",
    "2- With 10000 iterations, I observe that the training error is lower than the test error, as expected. I also observe that the training error with 10000 iterations is lower than that obtained with only 100 iterations. This confirm my expectation, because the more the iterations, the better will be the final model. However, the test error is smaller with 100 iterations than that with 10000 iterations, and this is not conform to my expectation, because I would expect a better generalisation on the model obtained with many more iterations."
   ]
  },
  {
   "cell_type": "markdown",
   "metadata": {
    "deletable": false,
    "editable": false,
    "nbgrader": {
     "cell_type": "markdown",
     "checksum": "22a76a818ec916fe2a996f8a92d173d9",
     "grade": false,
     "grade_id": "cell-4d2439df9a3690f9",
     "locked": true,
     "schema_version": 3,
     "solution": false,
     "task": false
    }
   },
   "source": [
    "**TO DO 5**: We want to have a better understanding of the hidden behaviour of perceptron algorithm. We indeed defined two auxiliary outputs that should allow us to inspect the training process in more depth. In particular, we want to check if the sequence of models' errors found through the different iterations is characterized by a decreasing trend, with respect to both training and test datasets.\n",
    "\n",
    "The function `perceptron` already returns the sequence of errors, which is ready to be plotted. However, the errors for the test set aren not immediately available: we nonetheless have all different models, thus we can easily compute them! "
   ]
  },
  {
   "cell_type": "code",
   "execution_count": 16,
   "metadata": {
    "deletable": false,
    "nbgrader": {
     "cell_type": "code",
     "checksum": "a8462f77429396d74fddfc85a0e0866c",
     "grade": false,
     "grade_id": "cell-1b31c939aaccbfcf",
     "locked": false,
     "schema_version": 3,
     "solution": true,
     "task": false
    }
   },
   "outputs": [],
   "source": [
    "# TODO 5\n",
    "# Write a function 'error_models' which takes as input a list of models (each of which is a numpy ndarray) and returns\n",
    "# a list of corresponding errors for a generic dataset\n",
    "# Suggestion: you can use 'compute_fraction_missclassified' from above to solve this TODO\n",
    "\n",
    "def error_models(X : np.ndarray, Y : np.ndarray, w_l : list) -> list:\n",
    "    '''\n",
    "    This function computes the fraction of missclassified samples of model parametrized by w on the data X w.r.t. \n",
    "    targets Y. \n",
    "    :param X: input locations\n",
    "    :param Y: targets\n",
    "    :param w: list of arrays (models) to be tested\n",
    "    \n",
    "    :return: List of fraction of missclassified samples for each model\n",
    "    '''\n",
    "    errors = []\n",
    "    # YOUR CODE HERE\n",
    "    for i in range(len(w_l)):\n",
    "        errors.append(compute_fraction_missclassified(X, Y, w_l[i]))\n",
    "    return errors\n"
   ]
  },
  {
   "cell_type": "code",
   "execution_count": 17,
   "metadata": {
    "deletable": false,
    "editable": false,
    "nbgrader": {
     "cell_type": "code",
     "checksum": "6413b5edf9131d64c721aa3856f6edf0",
     "grade": true,
     "grade_id": "cell-35cfce3521a586e5",
     "locked": true,
     "points": 2,
     "schema_version": 3,
     "solution": false,
     "task": false
    }
   },
   "outputs": [],
   "source": [
    "assert len(error_models(x_test, y_test, w_list)) == len(error_list_train)\n",
    "assert len(error_models(x_test, y_test, w_list)) <= 10000\n"
   ]
  },
  {
   "cell_type": "code",
   "execution_count": 18,
   "metadata": {
    "deletable": false,
    "editable": false,
    "nbgrader": {
     "cell_type": "code",
     "checksum": "d393b4a366154f7ac52e5c3cf575b4be",
     "grade": false,
     "grade_id": "cell-d46c1c56214026b2",
     "locked": true,
     "schema_version": 3,
     "solution": false,
     "task": false
    }
   },
   "outputs": [],
   "source": [
    "# Let's make 'error_list_train' a fraction of the missclassified samples by dividing for the size of the training set\n",
    "error_list_train = np.array(error_list_train)/x_train.shape[0]"
   ]
  },
  {
   "cell_type": "code",
   "execution_count": 19,
   "metadata": {
    "deletable": false,
    "editable": false,
    "nbgrader": {
     "cell_type": "code",
     "checksum": "301fc11fbbee6176a5a66ae731ee1afe",
     "grade": false,
     "grade_id": "cell-91232f80b209e445",
     "locked": true,
     "schema_version": 3,
     "solution": false,
     "task": false
    }
   },
   "outputs": [
    {
     "data": {
      "text/plain": [
       "Text(0.5, 1.0, 'Perceptron test error behaviour')"
      ]
     },
     "execution_count": 19,
     "metadata": {},
     "output_type": "execute_result"
    },
    {
     "data": {
      "image/png": "[encoded data removed]",
      "text/plain": [
       "<Figure size 1080x360 with 2 Axes>"
      ]
     },
     "metadata": {
      "needs_background": "light"
     },
     "output_type": "display_data"
    }
   ],
   "source": [
    "error_list_test = error_models(x_test, y_test, w_list)\n",
    "fig, axes = plt.subplots(1, 2, figsize=(15, 5))\n",
    "axes[0].plot([i for i in range(len(w_list))], error_list_train, linewidth=2)\n",
    "axes[0].set_xlabel('Error-decreasing iteration')\n",
    "axes[0].set_ylabel('Training error')\n",
    "axes[0].set_title('Perceptron training error behaviour')\n",
    "axes[1].plot([i for i in range(len(w_list))], error_list_test, linewidth=2)\n",
    "axes[1].set_xlabel('Error-decreasing iteration')\n",
    "axes[1].set_ylabel('Test error')\n",
    "axes[1].set_title('Perceptron test error behaviour')"
   ]
  },
  {
   "cell_type": "markdown",
   "metadata": {
    "deletable": false,
    "editable": false,
    "nbgrader": {
     "cell_type": "markdown",
     "checksum": "6762b84b460b249198bd0a496c16912a",
     "grade": false,
     "grade_id": "cell-3f70a09649060ece",
     "locked": true,
     "schema_version": 3,
     "solution": false,
     "task": false
    }
   },
   "source": [
    "**TO DO 6**: Answer in the next cell (you do not need more than 5-7 lines):\n",
    "\n",
    "Consider the plot above. How do the two errors compare? Can you identify a particular property of one of them? Why doesn't the other have it?"
   ]
  },
  {
   "cell_type": "markdown",
   "metadata": {
    "deletable": false,
    "nbgrader": {
     "cell_type": "markdown",
     "checksum": "0c3b1b8817b584472c6fa67e5721dc31",
     "grade": true,
     "grade_id": "cell-5g8a6b5a5434d45a",
     "locked": false,
     "points": 5,
     "schema_version": 3,
     "solution": true,
     "task": false
    }
   },
   "source": [
    "YOUR ANSWER HERE\n",
    "Comparing the two plot above, we can notice that both of them start with error 1 at iteration 0, where $w$ is set to 0. Then we can see that the error in the training perceptron algorithm has a decreasing trend. On the other hand, the errors with the test perceptron algorithm don't have this type of trend, because to compute the error behaviour, we are using the list of parameters obtained training our model with respect to the data in the training set. "
   ]
  },
  {
   "cell_type": "markdown",
   "metadata": {
    "deletable": false,
    "editable": false,
    "nbgrader": {
     "cell_type": "markdown",
     "checksum": "7ee804dacb6dc36e52aa75ef49bd0823",
     "grade": false,
     "grade_id": "cell-ceceb8d79bdbb44c",
     "locked": true,
     "schema_version": 3,
     "solution": false,
     "task": false
    }
   },
   "source": [
    "# Logistic Regression\n",
    "Now we use logistic regression, as implemented in Scikit-learn, to predict labels. We first do it for 2 labels and then for 3 labels. We will also plot the decision region of logistic regression.\n",
    "\n",
    "We first load the dataset again."
   ]
  },
  {
   "cell_type": "code",
   "execution_count": 20,
   "metadata": {
    "deletable": false,
    "editable": false,
    "nbgrader": {
     "cell_type": "code",
     "checksum": "1f987eb7258f14865ba47ac14effdc10",
     "grade": false,
     "grade_id": "cell-f0438d3eda59cd16",
     "locked": true,
     "schema_version": 3,
     "solution": false,
     "task": false
    }
   },
   "outputs": [],
   "source": [
    "import random\n",
    "# Let's reinitialize the random seed \n",
    "random.seed(ID_number)\n",
    "np.random.seed(ID_number)\n",
    "\n",
    "# In the following we will keep the dataset with only two classes (which we aggregated before)\n",
    "m_t = 80\n",
    "x_train, y_train, x_test, y_test = create_train_val_test_datasets_with_constraints(X, Y, m_t, len(Y)-m_t, 25)"
   ]
  },
  {
   "cell_type": "markdown",
   "metadata": {
    "deletable": false,
    "editable": false,
    "nbgrader": {
     "cell_type": "markdown",
     "checksum": "99512e4cd5717eddcf9dc7a2f5519ad0",
     "grade": false,
     "grade_id": "cell-2ac0dfd0d9156863",
     "locked": true,
     "schema_version": 3,
     "solution": false,
     "task": false
    }
   },
   "source": [
    "To define a logistic regression model in Scikit-learn use the instruction\n",
    "\n",
    "$linear\\_model.LogisticRegression(C=1e5, max\\_iter=?)$\n",
    "\n",
    "$C$ is a parameter related to *regularization*, a technique that\n",
    "we will see later in the course. Setting it to a high value is almost\n",
    "as ignoring regularization, so the instruction above corresponds to the\n",
    "logistic regression you have seen in class. Choose the proper number of iterations: max_iter.\n",
    "\n",
    "To learn the model you need to use the $fit(...)$ instruction and to predict you need to use the $predict(...)$ function. See the Scikit-learn documentation for how to use it (have a look at the logreg.score method too).\n",
    "\n",
    "**TO DO** Define the logistic regression model, then learn the model using the training set and predict on the test set. Then print the fraction of samples missclassified in the training set and in the test set."
   ]
  },
  {
   "cell_type": "code",
   "execution_count": 21,
   "metadata": {
    "deletable": false,
    "nbgrader": {
     "cell_type": "code",
     "checksum": "405553f98bc79df4733a62d79e4d5dd3",
     "grade": false,
     "grade_id": "cell-1319502bf0c222b4",
     "locked": false,
     "schema_version": 3,
     "solution": true,
     "task": false
    }
   },
   "outputs": [
    {
     "name": "stdout",
     "output_type": "stream",
     "text": [
      "Error rate on training set: 0.0\n",
      "Error rate on test set: 0.04081632653061224\n",
      "Compare the estimate of generalization with the sklearn implementation 0.04081632653061229\n"
     ]
    }
   ],
   "source": [
    "# TODO 7\n",
    "# Logistic regression for 2 classes\n",
    "# To compute the error rate (classification loss you can use the function \"classification_loss\" you built before)\n",
    "max_iter = 2000\n",
    "# YOUR CODE HERE\n",
    "logreg = linear_model.LogisticRegression(C=1e5, max_iter=max_iter)  # maximum number of iterations taken \n",
    "                                                                # for the solvers to converge\n",
    "\n",
    "logreg.fit(x_train, y_train) # logreg method : Fit the model according to the given training data.\n",
    "# print(logreg.classes_) # print attribute of the object logreg\n",
    "\n",
    "labels_train = logreg.predict(x_train) # logreg method : Predict class labels for samples in X.\n",
    "error_rate_training = classification_loss(y_train, labels_train)\n",
    "\n",
    "labels_test = logreg.predict(x_test)\n",
    "error_rate_test = classification_loss(y_test, labels_test)\n",
    "\n",
    "error_rate_test_sklearn = 1 - logreg.score(x_test, y_test) # score gives accuracy that is #correct_preds / #all_preds !\n",
    "                                                            # our classification loss is #uncorrect_preds / #all_preds !\n",
    "    \n",
    "print(\"Error rate on training set: \"+str(error_rate_training))\n",
    "print(\"Error rate on test set: \"+str(error_rate_test))\n",
    "print(f\"Compare the estimate of generalization with the sklearn implementation {error_rate_test_sklearn}\")"
   ]
  },
  {
   "cell_type": "code",
   "execution_count": 22,
   "metadata": {
    "deletable": false,
    "editable": false,
    "nbgrader": {
     "cell_type": "code",
     "checksum": "5b4c7bd126df457d4e6b716058b14d67",
     "grade": true,
     "grade_id": "cell-f61fd1d382c5083b",
     "locked": true,
     "points": 3,
     "schema_version": 3,
     "solution": false,
     "task": false
    }
   },
   "outputs": [],
   "source": [
    "assert np.isclose(error_rate_test, error_rate_test_sklearn)"
   ]
  },
  {
   "cell_type": "markdown",
   "metadata": {
    "deletable": false,
    "editable": false,
    "nbgrader": {
     "cell_type": "markdown",
     "checksum": "06fc67cd6c1561737cca0900743ac5d0",
     "grade": false,
     "grade_id": "cell-1bc78d30e45a1810",
     "locked": true,
     "schema_version": 3,
     "solution": false,
     "task": false
    }
   },
   "source": [
    "Now we do logistic regression for classification with 3 classes."
   ]
  },
  {
   "cell_type": "code",
   "execution_count": 23,
   "metadata": {
    "deletable": false,
    "editable": false,
    "nbgrader": {
     "cell_type": "code",
     "checksum": "07fb9f417b1d482394a832eac00d959e",
     "grade": false,
     "grade_id": "cell-a50c4e9d48fc99b8",
     "locked": true,
     "schema_version": 3,
     "solution": false,
     "task": false
    }
   },
   "outputs": [],
   "source": [
    "random.seed(ID_number)\n",
    "np.random.seed(ID_number)\n",
    "\n",
    "X = wine.data\n",
    "Y = wine.target\n",
    "\n",
    "m_t = 80\n",
    "x_train, y_train, x_test, y_test = create_train_val_test_datasets_with_constraints(X, Y, m_t, len(Y)-m_t, 20)\n",
    "\n",
    "_, counts = np.unique(y_train, return_counts=True)\n",
    "assert (counts >= 20).all()\n",
    "_, counts = np.unique(y_test, return_counts=True)\n",
    "assert (counts >= 20).all()"
   ]
  },
  {
   "cell_type": "code",
   "execution_count": 24,
   "metadata": {
    "deletable": false,
    "nbgrader": {
     "cell_type": "code",
     "checksum": "27b0f6f414653d1853499f3532048fce",
     "grade": false,
     "grade_id": "cell-a5bafa4e2faa3712",
     "locked": false,
     "schema_version": 3,
     "solution": true,
     "task": false
    }
   },
   "outputs": [
    {
     "name": "stdout",
     "output_type": "stream",
     "text": [
      "Error rate on training set: 0.0\n",
      "Error rate on test set: 0.08163265306122448\n",
      "Compare the estimate of generalization with the sklearn implementation 0.08163265306122447\n"
     ]
    }
   ],
   "source": [
    "# print(counts)\n",
    "# print(y_train)\n",
    "# print(y_test)\n",
    "\n",
    "# TODO 8\n",
    "# Logistic regression for 3 classes\n",
    "# To compute the error rate (classification loss you can use the function \"classification_loss\" you built before)\n",
    "# Choose the proper number of iterations: max_iter.\n",
    "max_iter = 5000\n",
    "# YOUR CODE HERE\n",
    "logreg = linear_model.LogisticRegression(C=1e5, max_iter=max_iter, multi_class='multinomial', solver='lbfgs')  \n",
    "\n",
    "logreg.fit(x_train, y_train) # logreg method : Fit the model according to the given training data.\n",
    "# print(logreg.classes_) # print attribute of the object logreg\n",
    "\n",
    "labels_train = logreg.predict(x_train) # logreg method : Predict class labels for samples in X.\n",
    "error_rate_training = classification_loss(labels_train, y_train)\n",
    "\n",
    "labels_test = logreg.predict(x_test)\n",
    "error_rate_test = classification_loss(labels_test, y_test)\n",
    "\n",
    "error_rate_test_sklearn = 1 - logreg.score(x_test, y_test) # score gives accuracy that is #correct_preds / #all_preds !\n",
    "                                                            # our classification loss is #uncorrect_preds / #all_preds !\n",
    "\n",
    "print(\"Error rate on training set: \"+str(error_rate_training))\n",
    "print(\"Error rate on test set: \"+str(error_rate_test))\n",
    "print(f\"Compare the estimate of generalization with the sklearn implementation {error_rate_test_sklearn}\")"
   ]
  },
  {
   "cell_type": "code",
   "execution_count": 25,
   "metadata": {
    "deletable": false,
    "editable": false,
    "nbgrader": {
     "cell_type": "code",
     "checksum": "3c389e0a9443246776714b7d8bfadea3",
     "grade": true,
     "grade_id": "cell-32dd959d8191b244",
     "locked": true,
     "points": 1,
     "schema_version": 3,
     "solution": false,
     "task": false
    }
   },
   "outputs": [],
   "source": [
    "assert np.isclose(error_rate_test, error_rate_test_sklearn)"
   ]
  },
  {
   "cell_type": "markdown",
   "metadata": {
    "deletable": false,
    "editable": false,
    "nbgrader": {
     "cell_type": "markdown",
     "checksum": "9a795b02a913fa191847e2397e77ab87",
     "grade": false,
     "grade_id": "cell-a43468bc0e155db7",
     "locked": true,
     "schema_version": 3,
     "solution": false,
     "task": false
    }
   },
   "source": [
    "**TO DO 9**: Answer in the next cell (you do not need more than 5-7 lines):\n",
    "\n",
    "1- Consider logistic regression on 2 and 3 classes what relation do you observe between the training error and the (estimated) true loss in both cases? Is this what you expected? Explain what you observe and why it does or does not conform to your expectations.\n",
    "\n",
    "2- Consider logistic regression on 2 and perceptron with 10000 iterations, which one would you pick? Do you expect perceptron needs more iterations? Explain what you observe and why it does or does not conform to your expectations."
   ]
  },
  {
   "cell_type": "markdown",
   "metadata": {
    "deletable": false,
    "nbgrader": {
     "cell_type": "markdown",
     "checksum": "afe09c3e3ade70025d68baa76a1c23b7",
     "grade": true,
     "grade_id": "cell-5c8a6b5a5434d45a",
     "locked": false,
     "points": 5,
     "schema_version": 3,
     "solution": true,
     "task": false
    }
   },
   "source": [
    "YOUR ANSWER HERE\n",
    "1- In logistic regression with 2 and 3 classes, the training error is lower than the estimated true loss as expected, since our model is fitted on training data and then it is used to predict new data from, for example, the test set.\n",
    "2- Considering logistic regression on 2 classes and perceptron with 10000 iterations I would choose the one with the smallest error rate on test set which expresses a better generalisation of the model. So in this case I would choose the logistic regression method.  I don't expect perceptron needs more iterations, since the test error with only 100 iterations and with 10000 iterations is quite similar."
   ]
  },
  {
   "cell_type": "markdown",
   "metadata": {
    "deletable": false,
    "editable": false,
    "nbgrader": {
     "cell_type": "markdown",
     "checksum": "42c19c257ab817691414cedd4daa344f",
     "grade": false,
     "grade_id": "cell-8100034bd6b75005",
     "locked": true,
     "schema_version": 3,
     "solution": false,
     "task": false
    }
   },
   "source": [
    "We now are going to plot prediction boundaries of a logistic regression model, in order to plot them we need to reduce the number of features to 2: pick two features and restrict the dataset to include only two features, whose indices are specified in the $feature$ vector below. Then split into training and test."
   ]
  },
  {
   "cell_type": "code",
   "execution_count": 26,
   "metadata": {
    "deletable": false,
    "nbgrader": {
     "cell_type": "code",
     "checksum": "3ad8af7a9eac6cd454626b87364b2daf",
     "grade": false,
     "grade_id": "cell-61db43ed3e1ffada",
     "locked": false,
     "schema_version": 3,
     "solution": true,
     "task": false
    }
   },
   "outputs": [
    {
     "data": {
      "text/plain": [
       "LogisticRegression(C=100000.0, max_iter=5000)"
      ]
     },
     "execution_count": 26,
     "metadata": {},
     "output_type": "execute_result"
    }
   ],
   "source": [
    "# TODO 10\n",
    "#to make the plot we need to reduce the data to 2D, so we choose two features\n",
    "features_list = ['Alcohol', 'Malic acid', 'Ash', 'Alcalinity of ash', 'Magnesium', 'Total phenols', 'Flavanoids',\n",
    "                 'Nonflavanoid phenols', 'Proanthocyanins', 'Color intensity', 'Hue', 'OD280/OD315 of diluted wines',\n",
    "                 'Proline']\n",
    "labels_list = ['class_0', 'class_1', 'class_2']\n",
    "\n",
    "index_feature1 = 0  # You can choose the feature you prefer here\n",
    "index_feature2 = 1  # You can choose the feature you prefer here\n",
    "features = [index_feature1, index_feature2]\n",
    "\n",
    "feature_name0 = features_list[features[0]]\n",
    "feature_name1 = features_list[features[1]]\n",
    "\n",
    "X = X[:,features]\n",
    "\n",
    "# In the following we will keep the dataset with 3 classes\n",
    "m_t = 80\n",
    "x_train, y_train, x_test, y_test = create_train_val_test_datasets_with_constraints(X, Y, m_t, len(Y)-m_t, 20)\n",
    "\n",
    "# Fit a model on the reduced set of fetures\n",
    "# YOUR CODE HERE\n",
    "logreg = linear_model.LogisticRegression(C=1e5, max_iter=max_iter) # maximum number of iterations taken \n",
    "                                                                        # for the solvers to converge\n",
    "    \n",
    "logreg.fit(x_train, y_train) # the attributes would not be available until you've called the fit method\n",
    "# print(logreg.n_features_in_) # print attribute of the object logreg\n",
    "\n",
    "# labels_train = logreg.predict(x_train)\n",
    "# error_rate_training = classification_loss(labels_train, y_train)\n",
    "\n",
    "# labels_test = logreg.predict(x_test)\n",
    "# error_rate_test = classification_loss(labels_test, y_test)"
   ]
  },
  {
   "cell_type": "code",
   "execution_count": 27,
   "metadata": {
    "deletable": false,
    "editable": false,
    "nbgrader": {
     "cell_type": "code",
     "checksum": "f9afbdb7ca58f2157c4f16eb060f8ae0",
     "grade": true,
     "grade_id": "cell-6e35e0afddc4eb55",
     "locked": true,
     "points": 1,
     "schema_version": 3,
     "solution": false,
     "task": false
    }
   },
   "outputs": [],
   "source": [
    "assert logreg.predict(x_test).shape == (x_test.shape[0], )"
   ]
  },
  {
   "cell_type": "markdown",
   "metadata": {
    "deletable": false,
    "editable": false,
    "nbgrader": {
     "cell_type": "markdown",
     "checksum": "b2c1d6dfdff662b26f5a565a5f0dbe75",
     "grade": false,
     "grade_id": "cell-e052804bd400c9d7",
     "locked": true,
     "schema_version": 3,
     "solution": false,
     "task": false
    }
   },
   "source": [
    "The code below uses the model in $logreg$ to plot the decision region for the two features chosen above, with colors denoting the predicted value. It also plots the points (with correct labels) in the training set. It makes a similar plot for the test set."
   ]
  },
  {
   "cell_type": "code",
   "execution_count": 28,
   "metadata": {
    "deletable": false,
    "editable": false,
    "nbgrader": {
     "cell_type": "code",
     "checksum": "3463eb3529cac488e7c63459abae8cd5",
     "grade": false,
     "grade_id": "cell-0c8b1f9de040f7cf",
     "locked": true,
     "schema_version": 3,
     "solution": false,
     "task": false
    }
   },
   "outputs": [
    {
     "name": "stderr",
     "output_type": "stream",
     "text": [
      "<ipython-input-28-a62ef003d687>:15: MatplotlibDeprecationWarning: shading='flat' when X and Y have the same dimensions as C is deprecated since 3.3.  Either specify the corners of the quadrilaterals with X and Y, or pass shading='auto', 'nearest' or 'gouraud', or set rcParams['pcolor.shading'].  This will become an error two minor releases later.\n",
      "  axes[0].pcolormesh(xx, yy, Z, cmap=plt.cm.Paired)\n",
      "<ipython-input-28-a62ef003d687>:28: MatplotlibDeprecationWarning: shading='flat' when X and Y have the same dimensions as C is deprecated since 3.3.  Either specify the corners of the quadrilaterals with X and Y, or pass shading='auto', 'nearest' or 'gouraud', or set rcParams['pcolor.shading'].  This will become an error two minor releases later.\n",
      "  axes[1].pcolormesh(xx, yy, Z, cmap=plt.cm.Paired)\n"
     ]
    },
    {
     "data": {
      "text/plain": [
       "Text(0.5, 1.0, 'Test set')"
      ]
     },
     "execution_count": 28,
     "metadata": {},
     "output_type": "execute_result"
    },
    {
     "data": {
      "text/plain": [
       "<Figure size 288x216 with 0 Axes>"
      ]
     },
     "metadata": {},
     "output_type": "display_data"
    },
    {
     "data": {
      "image/png": "[encoded data removed]",
      "text/plain": [
       "<Figure size 720x360 with 2 Axes>"
      ]
     },
     "metadata": {
      "needs_background": "light"
     },
     "output_type": "display_data"
    }
   ],
   "source": [
    "# Plot the decision boundary. For that, we will assign a color to each\n",
    "# point in the mesh [x_min, x_max]x[y_min, y_max].\n",
    "h = .02  # step size in the mesh\n",
    "x_min, x_max = X[:, 0].min() - .5, X[:, 0].max() + .5\n",
    "y_min, y_max = X[:, 1].min() - .5, X[:, 1].max() + .5\n",
    "xx, yy = np.meshgrid(np.arange(x_min, x_max, h), np.arange(y_min, y_max, h))\n",
    "\n",
    "Z = logreg.predict(np.c_[xx.ravel(), yy.ravel()])\n",
    "\n",
    "# Put the result into a color plot\n",
    "Z = Z.reshape(xx.shape)\n",
    "\n",
    "plt.figure(1, figsize=(4, 3))\n",
    "fig, axes = plt.subplots(1,2, figsize=(10,5))\n",
    "axes[0].pcolormesh(xx, yy, Z, cmap=plt.cm.Paired)\n",
    "\n",
    "# Plot also the training points\n",
    "axes[0].scatter(x_train[:, 0], x_train[:, 1], c=y_train, edgecolors='k', cmap=plt.cm.Paired)\n",
    "axes[0].set_xlabel(feature_name0)\n",
    "axes[0].set_ylabel(feature_name1)\n",
    "\n",
    "axes[0].set_xlim(xx.min(), xx.max())\n",
    "axes[0].set_ylim(yy.min(), yy.max())\n",
    "axes[0].set_title('Training set')\n",
    "\n",
    "# Put the result into a color plot\n",
    "Z = Z.reshape(xx.shape)\n",
    "axes[1].pcolormesh(xx, yy, Z, cmap=plt.cm.Paired)\n",
    "\n",
    "# Plot also the test points \n",
    "axes[1].scatter(x_test[:, 0], x_test[:, 1], c=y_test, edgecolors='k', cmap=plt.cm.Paired, marker='s')\n",
    "axes[1].set_xlabel(feature_name0)\n",
    "axes[1].set_ylabel(feature_name1)\n",
    "\n",
    "axes[1].set_xlim(xx.min(), xx.max())\n",
    "axes[1].set_ylim(yy.min(), yy.max())\n",
    "axes[1].set_title('Test set')"
   ]
  },
  {
   "cell_type": "markdown",
   "metadata": {
    "deletable": false,
    "editable": false,
    "nbgrader": {
     "cell_type": "markdown",
     "checksum": "ad81e8de239addf86bc34554a54db7c2",
     "grade": false,
     "grade_id": "cell-acdf2d40b719572c",
     "locked": true,
     "schema_version": 3,
     "solution": false,
     "task": false
    }
   },
   "source": [
    "**TO DO 11**: Answer in the next cell (you do not need more than 5-7 lines):\n",
    "\n",
    "1- What is the shape of the decision boundaries? Why?\n",
    "\n",
    "2- In this lower dimensional space, are the features linearily separable? What if you consider the entire feature vector (without any dimensionality reduction)?  \n"
   ]
  },
  {
   "cell_type": "markdown",
   "metadata": {
    "deletable": false,
    "nbgrader": {
     "cell_type": "markdown",
     "checksum": "73a023e7e2714dd35c92f77ec982d640",
     "grade": true,
     "grade_id": "cell-5a2bb524ef017bac",
     "locked": false,
     "points": 2,
     "schema_version": 3,
     "solution": true,
     "task": false
    }
   },
   "source": [
    "YOUR ANSWER HERE\n",
    "1- The shape of the decision boundaries are lines, because with logistic regression we are doing only linear combinations operations on the features, as in linear regression, but applying to them a probabilistic model. So the final outcome will be a linear model.\n",
    "2- In this lower dimensional space, the features are linearly separable as shown in the plot and classify well the new data, as can be seen from the graph on the right. But in case I consider the entire feature vector, so in an higher dimensional space, it can occur the problem of overfitting: the model fit very well the data in training set, but it is not generic enough to predict future data from, for example, the test set. "
   ]
  }
 ],
 "metadata": {
  "kernelspec": {
   "display_name": "Python 3",
   "language": "python",
   "name": "python3"
  },
  "language_info": {
   "codemirror_mode": {
    "name": "ipython",
    "version": 3
   },
   "file_extension": ".py",
   "mimetype": "text/x-python",
   "name": "python",
   "nbconvert_exporter": "python",
   "pygments_lexer": "ipython3",
   "version": "3.8.8"
  }
 },
 "nbformat": 4,
 "nbformat_minor": 4
}
